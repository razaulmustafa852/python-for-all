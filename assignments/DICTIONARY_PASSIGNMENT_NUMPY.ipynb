{
 "cells": [
  {
   "cell_type": "markdown",
   "id": "ac9e77a2",
   "metadata": {},
   "source": [
    "# Programming Assignment"
   ]
  },
  {
   "cell_type": "markdown",
   "id": "d2045e79",
   "metadata": {},
   "source": [
    "# Question 1"
   ]
  },
  {
   "cell_type": "markdown",
   "id": "3f6ab26d",
   "metadata": {},
   "source": [
    "# Use dictionaries to create below Information. \n",
    "## Step:\n",
    "- Group the books by their author\n",
    "- Use functions that takes dictionary as an input from user and return below information.\n",
    "- Please note: You will pass a single nested dictionary to function. An example of nested dictionary is mentioned below showing only one book. However, you are going to pass 5 books to function. \n",
    "\n",
    "----------------------------------------------------------------------------------------\n",
    "# Information\n",
    "- Author: John Smith\n",
    "  - Book Book1: Python for Beginners (2019)\n",
    "  - Book Book3: The Art of Programming (2017)\n",
    "- Author: Emily Johnson\n",
    "  - Book Book2: Data Science Handbook (2020)\n",
    "- Author: Andrew Brown\n",
    "  - Book Book4: Machine Learning Basics (2023)\n",
    "  - Book Book5: Deep Learning (2023)"
   ]
  },
  {
   "cell_type": "code",
   "execution_count": 11,
   "id": "5daf8b7b",
   "metadata": {},
   "outputs": [],
   "source": [
    "books = {\n",
    "    \"Book1\": {\"title\": \"Python for Beginners\", \"author\": \"John Smith\", \"publication_year\": 2019}\n",
    "}"
   ]
  },
  {
   "cell_type": "markdown",
   "id": "b162dc7a",
   "metadata": {},
   "source": [
    "# Question 2 "
   ]
  },
  {
   "cell_type": "code",
   "execution_count": null,
   "id": "a2226c7c",
   "metadata": {},
   "outputs": [],
   "source": [
    "# Text to find words and their frequency\n",
    "'''\n",
    "Generating random paragraphs can be an excellent way for writers to get their creative flow going at the beginning of the day. \n",
    "The writer has no idea what topic the random paragraph will be about when it appears. \n",
    "This forces the writer to use creativity to complete one of three common writing challenges. \n",
    "The writer can use the paragraph as the first one of a short story and build upon it. \n",
    "A second option is to use the random paragraph somewhere in a short story they create. \n",
    "The third option is to have the random paragraph be the ending paragraph in a short story. \n",
    "No matter which of these challenges is undertaken, the writer is forced to use creativity to incorporate the paragraph into their writing\n",
    "'''"
   ]
  },
  {
   "cell_type": "markdown",
   "id": "2b71c28e",
   "metadata": {},
   "source": [
    "# Genereate output like below\n",
    "\n",
    "## Steps:\n",
    "- Below is a list, and inside it we have tuples, which are showing unique words and their frequency in the paragraph, you can see text (Paragraph above)\n",
    "- Create a function that does all this Job\n",
    "- Then using matplotlib python library to generate a graph which shows words in x-axis and their frequency on y-axis. Note: Show top 25 words after sorting them from highest frequency to lowest"
   ]
  },
  {
   "cell_type": "code",
   "execution_count": null,
   "id": "f36bea4f",
   "metadata": {},
   "outputs": [],
   "source": [
    "[('generating', 1), ('random', 4), ('paragraphs', 1), ('can', 2), ('be', 3)]"
   ]
  },
  {
   "cell_type": "code",
   "execution_count": null,
   "id": "44698eba",
   "metadata": {},
   "outputs": [],
   "source": [
    "# Note: Above are just five tuples. However, you will get more than that!"
   ]
  },
  {
   "cell_type": "markdown",
   "id": "a9af835e",
   "metadata": {},
   "source": [
    "# Question 3"
   ]
  },
  {
   "cell_type": "markdown",
   "id": "6bbfeebd",
   "metadata": {},
   "source": [
    "# NumPy & Lists / Let's have a look at few Functions, and why numpy\n",
    "\n",
    "NumPy (or Numpy) is a Linear Algebra Library for Python, the reason it is so important for Data Science with Python is that almost all of the libraries in the PyData Ecosystem rely on NumPy as one of their main building blocks.\n",
    "\n",
    "Numpy is also incredibly fast, as it has bindings to C libraries. For more info on why you would want to use Arrays instead of lists, check out this great [StackOverflow post](http://stackoverflow.com/questions/993984/why-numpy-instead-of-python-lists).\n",
    "\n",
    "We will only learn the basics of NumPy"
   ]
  },
  {
   "cell_type": "code",
   "execution_count": 35,
   "id": "ab8b116f",
   "metadata": {},
   "outputs": [],
   "source": [
    "import numpy as np"
   ]
  },
  {
   "cell_type": "markdown",
   "id": "b6e8a21e",
   "metadata": {},
   "source": [
    "# Numpy Arrays\n",
    "\n",
    "Numpy arrays essentially come in two flavors: vectors and matrices. Vectors are strictly 1-d arrays and matrices are 2-d (but you should note a matrix can still have only one row or one column).\n",
    "\n",
    "Let's begin our introduction by exploring how to create NumPy arrays.\n",
    "\n",
    "## Creating NumPy Arrays\n",
    "\n",
    "### From a Python List\n",
    "\n",
    "We can create an array by directly converting a list or list of lists:"
   ]
  },
  {
   "cell_type": "code",
   "execution_count": 36,
   "id": "b085a4ec",
   "metadata": {},
   "outputs": [
    {
     "data": {
      "text/plain": [
       "[1, 2, 3]"
      ]
     },
     "execution_count": 36,
     "metadata": {},
     "output_type": "execute_result"
    }
   ],
   "source": [
    "my_list = [1,2,3]\n",
    "my_list"
   ]
  },
  {
   "cell_type": "code",
   "execution_count": 37,
   "id": "d8196c7d",
   "metadata": {},
   "outputs": [
    {
     "data": {
      "text/plain": [
       "array([1, 2, 3])"
      ]
     },
     "execution_count": 37,
     "metadata": {},
     "output_type": "execute_result"
    }
   ],
   "source": [
    "np.array(my_list)"
   ]
  },
  {
   "cell_type": "code",
   "execution_count": 38,
   "id": "0c4b8df9",
   "metadata": {},
   "outputs": [],
   "source": [
    "# Question: What is the main difference between list and array input?\n",
    "# Please read stackoverflow post and write answer, with few examples, which we have discussed in the class!"
   ]
  },
  {
   "cell_type": "code",
   "execution_count": null,
   "id": "3828c56b",
   "metadata": {},
   "outputs": [],
   "source": []
  },
  {
   "cell_type": "code",
   "execution_count": 20,
   "id": "fb4a6851",
   "metadata": {},
   "outputs": [
    {
     "data": {
      "text/plain": [
       "[[1, 2, 3], [4, 5, 6], [7, 8, 9]]"
      ]
     },
     "execution_count": 20,
     "metadata": {},
     "output_type": "execute_result"
    }
   ],
   "source": [
    "my_matrix = [[1,2,3],[4,5,6],[7,8,9]]\n",
    "my_matrix"
   ]
  },
  {
   "cell_type": "code",
   "execution_count": 21,
   "id": "7fd46882",
   "metadata": {},
   "outputs": [
    {
     "data": {
      "text/plain": [
       "array([[1, 2, 3],\n",
       "       [4, 5, 6],\n",
       "       [7, 8, 9]])"
      ]
     },
     "execution_count": 21,
     "metadata": {},
     "output_type": "execute_result"
    }
   ],
   "source": [
    "np.array(my_matrix)"
   ]
  },
  {
   "cell_type": "code",
   "execution_count": 22,
   "id": "ffb05cb4",
   "metadata": {},
   "outputs": [],
   "source": [
    "# Question how to extract value 5 and 9 from above matrix"
   ]
  },
  {
   "cell_type": "code",
   "execution_count": null,
   "id": "f7187fd1",
   "metadata": {},
   "outputs": [],
   "source": []
  },
  {
   "cell_type": "markdown",
   "id": "1817a99b",
   "metadata": {},
   "source": [
    "## Random \n",
    "\n",
    "Numpy also has lots of ways to create random number arrays:\n",
    "\n",
    "Do you remember! Random modules!. ?  Yes!\n",
    "\n",
    "Question: Then ! Create an array of two random samples from a uniform distribution\n",
    "over ``[0, 1)``."
   ]
  },
  {
   "cell_type": "code",
   "execution_count": null,
   "id": "c8bc458a",
   "metadata": {},
   "outputs": [],
   "source": []
  },
  {
   "cell_type": "code",
   "execution_count": 25,
   "id": "ae8cc883",
   "metadata": {},
   "outputs": [
    {
     "data": {
      "text/plain": [
       "array([ 0,  1,  2,  3,  4,  5,  6,  7,  8,  9, 10, 11, 12, 13, 14, 15, 16,\n",
       "       17, 18, 19, 20, 21, 22, 23, 24])"
      ]
     },
     "execution_count": 25,
     "metadata": {},
     "output_type": "execute_result"
    }
   ],
   "source": [
    "arr = np.arange(25)\n",
    "arr"
   ]
  },
  {
   "cell_type": "code",
   "execution_count": 26,
   "id": "78d25075",
   "metadata": {},
   "outputs": [],
   "source": [
    "# Use built-in numpyt function to find Minimimum, Maximum, Index of Minimum Value and Index of Maximum Value\n"
   ]
  },
  {
   "cell_type": "code",
   "execution_count": 27,
   "id": "dd37f8d6",
   "metadata": {},
   "outputs": [],
   "source": [
    "#Minimum"
   ]
  },
  {
   "cell_type": "code",
   "execution_count": null,
   "id": "30b0a3c0",
   "metadata": {},
   "outputs": [],
   "source": []
  },
  {
   "cell_type": "code",
   "execution_count": 28,
   "id": "934909ae",
   "metadata": {},
   "outputs": [],
   "source": [
    "#Maximum"
   ]
  },
  {
   "cell_type": "code",
   "execution_count": null,
   "id": "8c35f78c",
   "metadata": {},
   "outputs": [],
   "source": []
  },
  {
   "cell_type": "code",
   "execution_count": 29,
   "id": "dac1ea99",
   "metadata": {},
   "outputs": [],
   "source": [
    "# Minimum Value Index"
   ]
  },
  {
   "cell_type": "code",
   "execution_count": null,
   "id": "53303770",
   "metadata": {},
   "outputs": [],
   "source": []
  },
  {
   "cell_type": "code",
   "execution_count": 34,
   "id": "3f08ff53",
   "metadata": {},
   "outputs": [],
   "source": [
    "# Maximum Value Index "
   ]
  },
  {
   "cell_type": "code",
   "execution_count": null,
   "id": "0da20713",
   "metadata": {},
   "outputs": [],
   "source": []
  },
  {
   "cell_type": "markdown",
   "id": "93589491",
   "metadata": {},
   "source": [
    "# List any three methods provided to you by numpy, which we solved manually in the class instead of using pre-defined functions, with examples"
   ]
  },
  {
   "cell_type": "code",
   "execution_count": null,
   "id": "dde89ebe",
   "metadata": {},
   "outputs": [],
   "source": []
  },
  {
   "cell_type": "code",
   "execution_count": null,
   "id": "6645d00d",
   "metadata": {},
   "outputs": [],
   "source": [
    "#Done"
   ]
  }
 ],
 "metadata": {
  "kernelspec": {
   "display_name": "Python 3 (ipykernel)",
   "language": "python",
   "name": "python3"
  },
  "language_info": {
   "codemirror_mode": {
    "name": "ipython",
    "version": 3
   },
   "file_extension": ".py",
   "mimetype": "text/x-python",
   "name": "python",
   "nbconvert_exporter": "python",
   "pygments_lexer": "ipython3",
   "version": "3.9.13"
  }
 },
 "nbformat": 4,
 "nbformat_minor": 5
}
