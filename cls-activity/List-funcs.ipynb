{
 "cells": [
  {
   "cell_type": "code",
   "execution_count": 62,
   "id": "008b60b3",
   "metadata": {},
   "outputs": [],
   "source": [
    "def sep(list_which_is_passed_to_fnc):\n",
    "    '''\n",
    "    This function will sepearate int and strings values:\n",
    "    '''\n",
    "    int_list = []\n",
    "    str_list = []\n",
    "    evn_list = []\n",
    "    for my_elements in list_which_is_passed_to_fnc:\n",
    "        if isinstance(my_elements, int):\n",
    "#             print('I found')\n",
    "            int_list.append(my_elements)\n",
    "            \n",
    "        elif isinstance(my_elements, str):\n",
    "            str_list.append(my_elements)\n",
    "#         print(my_elements)\n",
    "    c= 0  \n",
    "    for even_elements in sorted(int_list):\n",
    "        if even_elements %2==0:\n",
    "            \n",
    "#             print('I found even number', even_elements)\n",
    "            evn_list.append((c,even_elements))\n",
    "        c+=1\n",
    "    \n",
    "#     print(list_which_is_passed_to_fnc)\n",
    "    return sorted(int_list),int_list,str_list,evn_list\n",
    "\n"
   ]
  },
  {
   "cell_type": "code",
   "execution_count": 81,
   "id": "45db74ae",
   "metadata": {},
   "outputs": [],
   "source": [
    "def sep_2(list_which_is_passed_to_fnc):\n",
    "    '''\n",
    "    This function will sepearate int and strings values:\n",
    "    '''\n",
    "    int_list = []\n",
    "    str_list = []\n",
    "    evn_list = []\n",
    "    c=0\n",
    "    for my_elements in list_which_is_passed_to_fnc:\n",
    "        if isinstance(my_elements, int):\n",
    "            int_list.append(my_elements)\n",
    "            if my_elements %2==0:\n",
    "                evn_list.append((c, my_elements))        \n",
    "        elif isinstance(my_elements, str):\n",
    "            str_list.append(my_elements)\n",
    "        c=c+1\n",
    "\n",
    "    return sorted(int_list),int_list,str_list,evn_list"
   ]
  },
  {
   "cell_type": "code",
   "execution_count": 82,
   "id": "5800b594",
   "metadata": {},
   "outputs": [
    {
     "name": "stdout",
     "output_type": "stream",
     "text": [
      "[1, 2, 8, 55] [1, 2, 55, 8] ['Jacob', 'Nico', 'Lance'] [(1, 2), (2, 8)]\n"
     ]
    }
   ],
   "source": [
    "l = [1,2,55,8,'Jacob','Nico','Lance']\n",
    "\n",
    "int_list_sorted,int_list,str_list,evn_list = sep(l)\n",
    "\n",
    "print(int_list_sorted,int_list,str_list,evn_list)"
   ]
  },
  {
   "cell_type": "code",
   "execution_count": 83,
   "id": "37202f33",
   "metadata": {},
   "outputs": [
    {
     "name": "stdout",
     "output_type": "stream",
     "text": [
      "[1, 2, 8, 55] [1, 2, 55, 8] ['Jacob', 'Nico', 'Lance'] [(1, 2), (3, 8)]\n"
     ]
    }
   ],
   "source": [
    "l = [1,2,55,8,'Jacob','Nico','Lance']\n",
    "\n",
    "int_list_sorted,int_list,str_list,evn_list = sep_2(l)\n",
    "print(int_list_sorted,int_list,str_list,evn_list)"
   ]
  },
  {
   "cell_type": "code",
   "execution_count": null,
   "id": "10c9b979",
   "metadata": {},
   "outputs": [],
   "source": []
  }
 ],
 "metadata": {
  "kernelspec": {
   "display_name": "Python 3 (ipykernel)",
   "language": "python",
   "name": "python3"
  },
  "language_info": {
   "codemirror_mode": {
    "name": "ipython",
    "version": 3
   },
   "file_extension": ".py",
   "mimetype": "text/x-python",
   "name": "python",
   "nbconvert_exporter": "python",
   "pygments_lexer": "ipython3",
   "version": "3.9.13"
  }
 },
 "nbformat": 4,
 "nbformat_minor": 5
}
