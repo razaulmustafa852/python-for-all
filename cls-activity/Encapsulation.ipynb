{
 "cells": [
  {
   "cell_type": "markdown",
   "id": "3313a570",
   "metadata": {},
   "source": [
    "Encapsulation in Python involves bundling the data (attributes) and the methods that operate on the data within a single unit, i.e., a class. Here's an example demonstrating encapsulation with protected members:"
   ]
  },
  {
   "cell_type": "markdown",
   "id": "13b8832c",
   "metadata": {},
   "source": [
    "# Protected Members"
   ]
  },
  {
   "cell_type": "code",
   "execution_count": 1,
   "id": "b6eab84e",
   "metadata": {},
   "outputs": [
    {
     "name": "stdout",
     "output_type": "stream",
     "text": [
      "Account holder: John Doe\n",
      "Current balance: $1000\n",
      "Deposit of $500 successful. New balance: $1500\n",
      "Withdrawal of $200 successful. New balance: $1300\n"
     ]
    }
   ],
   "source": [
    "class BankAccount:\n",
    "    def __init__(self, account_holder, balance=0):\n",
    "        self._account_holder = account_holder  # Protected attribute\n",
    "        self._balance = balance  # Protected attribute\n",
    "\n",
    "    def deposit(self, amount):\n",
    "        if amount > 0:\n",
    "            self._balance += amount\n",
    "            print(f\"Deposit of ${amount} successful. New balance: ${self._balance}\")\n",
    "        else:\n",
    "            print(\"Invalid deposit amount.\")\n",
    "\n",
    "    def _check_sufficient_funds(self, amount):\n",
    "        return amount <= self._balance\n",
    "\n",
    "    def withdraw(self, amount):\n",
    "        if self._check_sufficient_funds(amount):\n",
    "            self._balance -= amount\n",
    "            print(f\"Withdrawal of ${amount} successful. New balance: ${self._balance}\")\n",
    "        else:\n",
    "            print(\"Insufficient funds.\")\n",
    "\n",
    "    def get_balance(self):\n",
    "        return self._balance\n",
    "\n",
    "# Creating an object\n",
    "account = BankAccount(\"John Doe\", 1000)\n",
    "\n",
    "# Accessing protected attributes\n",
    "print(f\"Account holder: {account._account_holder}\")\n",
    "print(f\"Current balance: ${account.get_balance()}\")\n",
    "\n",
    "# Performing transactions\n",
    "account.deposit(500)\n",
    "account.withdraw(200)\n"
   ]
  },
  {
   "cell_type": "markdown",
   "id": "c71aabf9",
   "metadata": {},
   "source": [
    "In this example:\n",
    "\n",
    "- _account_holder and _balance are protected attributes. Although it's still possible to access them from outside the class, the single underscore convention signals that they are intended for internal use.\n",
    "\n",
    "- deposit, withdraw, and get_balance are public methods providing controlled access to the protected attributes.\n",
    "\n",
    "- _check_sufficient_funds is a protected method, indicated by the single underscore, used internally to check if sufficient funds are available for a withdrawal."
   ]
  },
  {
   "cell_type": "code",
   "execution_count": null,
   "id": "165c83db",
   "metadata": {},
   "outputs": [],
   "source": []
  },
  {
   "cell_type": "markdown",
   "id": "bf1c7624",
   "metadata": {},
   "source": [
    "# Private Members"
   ]
  },
  {
   "cell_type": "markdown",
   "id": "c9359a5c",
   "metadata": {},
   "source": [
    "In Python, private members in a class are attributes or methods that are intended to be used only within the class and not accessible from outside the class. They are designated by a double underscore (__) prefix before the attribute or method name. The use of double underscores triggers name mangling, making it more challenging (but not impossible) to access these members from outside the class."
   ]
  },
  {
   "cell_type": "code",
   "execution_count": 12,
   "id": "dea8d248",
   "metadata": {},
   "outputs": [
    {
     "name": "stdout",
     "output_type": "stream",
     "text": [
      "1000\n",
      "1234\n",
      "1000\n"
     ]
    }
   ],
   "source": [
    "class BankAccount:\n",
    "    def __init__(self, balance=0):\n",
    "        self._balance = balance     # Protected attribute\n",
    "        self.__pin = \"1234\"         # Private attribute\n",
    "\n",
    "    def deposit(self, amount):\n",
    "        self._balance += amount\n",
    "\n",
    "    def withdraw(self, amount, pin):\n",
    "        if pin == self.__pin:\n",
    "            self._balance -= amount\n",
    "        else:\n",
    "            print(\"Incorrect PIN. Withdrawal denied.\")\n",
    "\n",
    "    def get_balance(self):\n",
    "        return self._balance\n",
    "\n",
    "# Creating an object\n",
    "account = BankAccount(1000)\n",
    "\n",
    "# Accessing protected attribute\n",
    "print(account._balance)  # Output: 1000\n",
    "\n",
    "# Accessing private attribute using name mangling (not recommended)\n",
    "# print(account.__pin)  # Uncommenting this line will raise an AttributeError\n",
    "\n",
    "# Accessing private attribute using a getter method (preferred)\n",
    "print(account.get_balance())  # Output: 1000\n"
   ]
  },
  {
   "cell_type": "code",
   "execution_count": 13,
   "id": "48b043d8",
   "metadata": {},
   "outputs": [],
   "source": [
    "# Note: --> At this point it is enough for private members, however please read name-mangling."
   ]
  },
  {
   "cell_type": "code",
   "execution_count": 5,
   "id": "0b637afc",
   "metadata": {},
   "outputs": [],
   "source": [
    "class Base:\n",
    "    def __init__(self):\n",
    "        self.a = \"Nazim\"\n",
    "        self.__c = \"Khokhar But! Private\""
   ]
  },
  {
   "cell_type": "code",
   "execution_count": 6,
   "id": "005f411c",
   "metadata": {},
   "outputs": [],
   "source": [
    "class Derived(Base):\n",
    "    def __init__(self):\n",
    "  \n",
    "        # Calling constructor of\n",
    "        # Base class\n",
    "        Base.__init__(self)\n",
    "        print(\"Calling private member of base class: \")\n",
    "        print(self.__c)"
   ]
  },
  {
   "cell_type": "code",
   "execution_count": 9,
   "id": "4e1c4032",
   "metadata": {},
   "outputs": [
    {
     "name": "stdout",
     "output_type": "stream",
     "text": [
      "Nazim\n"
     ]
    }
   ],
   "source": [
    "# Driver code\n",
    "obj1 = Base()\n",
    "print(obj1.a)\n",
    "  \n",
    "# Uncommenting print(obj1.c) will\n",
    "# raise an AttributeError"
   ]
  },
  {
   "cell_type": "code",
   "execution_count": null,
   "id": "9e2b4819",
   "metadata": {},
   "outputs": [],
   "source": []
  }
 ],
 "metadata": {
  "kernelspec": {
   "display_name": "Python 3 (ipykernel)",
   "language": "python",
   "name": "python3"
  },
  "language_info": {
   "codemirror_mode": {
    "name": "ipython",
    "version": 3
   },
   "file_extension": ".py",
   "mimetype": "text/x-python",
   "name": "python",
   "nbconvert_exporter": "python",
   "pygments_lexer": "ipython3",
   "version": "3.9.13"
  }
 },
 "nbformat": 4,
 "nbformat_minor": 5
}
