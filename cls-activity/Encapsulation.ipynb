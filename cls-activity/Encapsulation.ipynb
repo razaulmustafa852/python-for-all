{
 "cells": [
  {
   "cell_type": "markdown",
   "id": "d6a02b40",
   "metadata": {},
   "source": [
    "Encapsulation in Python involves bundling the data (attributes) and the methods that operate on the data within a single unit, i.e., a class. Here's an example demonstrating encapsulation with protected members:"
   ]
  },
  {
   "cell_type": "code",
   "execution_count": 1,
   "id": "04aa3e90",
   "metadata": {},
   "outputs": [
    {
     "name": "stdout",
     "output_type": "stream",
     "text": [
      "Account holder: John Doe\n",
      "Current balance: $1000\n",
      "Deposit of $500 successful. New balance: $1500\n",
      "Withdrawal of $200 successful. New balance: $1300\n"
     ]
    }
   ],
   "source": [
    "class BankAccount:\n",
    "    def __init__(self, account_holder, balance=0):\n",
    "        self._account_holder = account_holder  # Protected attribute\n",
    "        self._balance = balance  # Protected attribute\n",
    "\n",
    "    def deposit(self, amount):\n",
    "        if amount > 0:\n",
    "            self._balance += amount\n",
    "            print(f\"Deposit of ${amount} successful. New balance: ${self._balance}\")\n",
    "        else:\n",
    "            print(\"Invalid deposit amount.\")\n",
    "\n",
    "    def _check_sufficient_funds(self, amount):\n",
    "        return amount <= self._balance\n",
    "\n",
    "    def withdraw(self, amount):\n",
    "        if self._check_sufficient_funds(amount):\n",
    "            self._balance -= amount\n",
    "            print(f\"Withdrawal of ${amount} successful. New balance: ${self._balance}\")\n",
    "        else:\n",
    "            print(\"Insufficient funds.\")\n",
    "\n",
    "    def get_balance(self):\n",
    "        return self._balance\n",
    "\n",
    "# Creating an object\n",
    "account = BankAccount(\"John Doe\", 1000)\n",
    "\n",
    "# Accessing protected attributes\n",
    "print(f\"Account holder: {account._account_holder}\")\n",
    "print(f\"Current balance: ${account.get_balance()}\")\n",
    "\n",
    "# Performing transactions\n",
    "account.deposit(500)\n",
    "account.withdraw(200)\n"
   ]
  },
  {
   "cell_type": "markdown",
   "id": "35f77ff4",
   "metadata": {},
   "source": [
    "In this example:\n",
    "\n",
    "- _account_holder and _balance are protected attributes. Although it's still possible to access them from outside the class, the single underscore convention signals that they are intended for internal use.\n",
    "\n",
    "- deposit, withdraw, and get_balance are public methods providing controlled access to the protected attributes.\n",
    "\n",
    "- _check_sufficient_funds is a protected method, indicated by the single underscore, used internally to check if sufficient funds are available for a withdrawal."
   ]
  },
  {
   "cell_type": "code",
   "execution_count": null,
   "id": "698f20de",
   "metadata": {},
   "outputs": [],
   "source": []
  }
 ],
 "metadata": {
  "kernelspec": {
   "display_name": "Python 3 (ipykernel)",
   "language": "python",
   "name": "python3"
  },
  "language_info": {
   "codemirror_mode": {
    "name": "ipython",
    "version": 3
   },
   "file_extension": ".py",
   "mimetype": "text/x-python",
   "name": "python",
   "nbconvert_exporter": "python",
   "pygments_lexer": "ipython3",
   "version": "3.9.13"
  }
 },
 "nbformat": 4,
 "nbformat_minor": 5
}
