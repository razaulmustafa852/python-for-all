{
 "cells": [
  {
   "cell_type": "markdown",
   "id": "f4553e9f",
   "metadata": {},
   "source": [
    "##### Little Intro!\n",
    "\n",
    "## Raza Ul Mustafa, PhD - Computer Engineering\n",
    "### Research areas: NLP, Video, Quality of Experience, Quality of Service, Machine & Deep Learning\n",
    "#### Publications - 20 + → Languages used in my papers: Python :)\n",
    "#### Main Courses of Interests: Programming\n",
    "#### Python, Web-programming, C/C++, Linux\n",
    "# Worked & Working on Research Projects: 5+\n"
   ]
  },
  {
   "cell_type": "code",
   "execution_count": null,
   "id": "82b98a72",
   "metadata": {},
   "outputs": [],
   "source": []
  },
  {
   "cell_type": "markdown",
   "id": "b25740c1",
   "metadata": {},
   "source": [
    "# Recommended Book for more Studies"
   ]
  },
  {
   "cell_type": "markdown",
   "id": "321dc46c",
   "metadata": {},
   "source": [
    "The primary text for this course is a freely available online textbook called \n",
    "\n",
    "Think Python: How to Think like a Computer Scientist.\n",
    "https://open.umn.edu/opentextbooks/textbooks/43"
   ]
  },
  {
   "cell_type": "markdown",
   "id": "ff0d1c70",
   "metadata": {},
   "source": [
    "# Topics we are going to cover today!"
   ]
  },
  {
   "cell_type": "markdown",
   "id": "86f8d845",
   "metadata": {},
   "source": [
    "- Variables & Operations\n",
    "- Strings & Numbers\n",
    "- Functions\n",
    "- Conditions / If/Elif/Else\n",
    "- Iterations – Very Important\n",
    "- Lists, Dictionaries, Tuples – Important in Python\n",
    "- OOP – Very important in all languages"
   ]
  },
  {
   "cell_type": "markdown",
   "id": "a3c06606",
   "metadata": {},
   "source": [
    "# Software to install -- or IDE"
   ]
  },
  {
   "cell_type": "markdown",
   "id": "d877f415",
   "metadata": {},
   "source": [
    "Anaconda & Spyder or your choice!"
   ]
  },
  {
   "cell_type": "markdown",
   "id": "d494e10d",
   "metadata": {},
   "source": [
    "Windows Installation - https://docs.anaconda.com/free/anaconda/install/windows/ \n",
    "\n",
    "Mac Installation - https://docs.anaconda.com/free/anaconda/install/mac-os/\n",
    "\n",
    "Linux - https://docs.anaconda.com/free/anaconda/install/linux/"
   ]
  },
  {
   "cell_type": "markdown",
   "id": "01a10e3f",
   "metadata": {},
   "source": [
    "# The first program!"
   ]
  },
  {
   "cell_type": "code",
   "execution_count": 1,
   "id": "f8284b21",
   "metadata": {},
   "outputs": [
    {
     "name": "stdout",
     "output_type": "stream",
     "text": [
      "Hello, World!\n"
     ]
    }
   ],
   "source": [
    "print(\"Hello, World!\")"
   ]
  },
  {
   "cell_type": "markdown",
   "id": "7711e109",
   "metadata": {},
   "source": [
    "# Note: Python is an example of a high-level language; other high-level languages you might have heard of are C++, PHP, and Java.\n",
    "\n",
    "## Why! They are very easy to understand, i.e., resembles natural language or mathematical notation\n"
   ]
  },
  {
   "cell_type": "markdown",
   "id": "266eba34",
   "metadata": {},
   "source": [
    "# Then who process the code!?"
   ]
  },
  {
   "cell_type": "code",
   "execution_count": null,
   "id": "235defc3",
   "metadata": {},
   "outputs": [],
   "source": [
    "'''\n",
    "Two kinds of programs process high-level languages into low-level languages: interpreters and compilers.\n",
    "'''"
   ]
  },
  {
   "cell_type": "markdown",
   "id": "cb074086",
   "metadata": {},
   "source": [
    "# By convention, files that contain Python programs have names that end with .py. "
   ]
  },
  {
   "cell_type": "markdown",
   "id": "4a4cde32",
   "metadata": {},
   "source": [
    "# Debugging in any programming Language! IMPORTANT!"
   ]
  },
  {
   "cell_type": "markdown",
   "id": "3cd0c75c",
   "metadata": {},
   "source": [
    "- syntax errors,\n",
    "- runtime errors,\n",
    "- semantic errors.\n"
   ]
  },
  {
   "cell_type": "code",
   "execution_count": 4,
   "id": "cadaa2b2",
   "metadata": {},
   "outputs": [
    {
     "ename": "SyntaxError",
     "evalue": "invalid syntax (4093172415.py, line 2)",
     "output_type": "error",
     "traceback": [
      "\u001b[1;36m  File \u001b[1;32m\"C:\\Users\\User\\AppData\\Local\\Temp\\ipykernel_10296\\4093172415.py\"\u001b[1;36m, line \u001b[1;32m2\u001b[0m\n\u001b[1;33m    if x ==5\u001b[0m\n\u001b[1;37m            ^\u001b[0m\n\u001b[1;31mSyntaxError\u001b[0m\u001b[1;31m:\u001b[0m invalid syntax\n"
     ]
    }
   ],
   "source": [
    "# Syntax\n",
    "if x ==5\n"
   ]
  },
  {
   "cell_type": "code",
   "execution_count": 5,
   "id": "47c2c869",
   "metadata": {},
   "outputs": [],
   "source": [
    "# The second type of error is a runtime error, so called because the error does not appear until you run the program."
   ]
  },
  {
   "cell_type": "code",
   "execution_count": 7,
   "id": "209779ce",
   "metadata": {},
   "outputs": [
    {
     "ename": "ZeroDivisionError",
     "evalue": "division by zero",
     "output_type": "error",
     "traceback": [
      "\u001b[1;31m---------------------------------------------------------------------------\u001b[0m",
      "\u001b[1;31mZeroDivisionError\u001b[0m                         Traceback (most recent call last)",
      "\u001b[1;32m~\\AppData\\Local\\Temp\\ipykernel_10296\\3539042244.py\u001b[0m in \u001b[0;36m<module>\u001b[1;34m\u001b[0m\n\u001b[1;32m----> 1\u001b[1;33m \u001b[0mresult\u001b[0m \u001b[1;33m=\u001b[0m \u001b[1;36m10\u001b[0m\u001b[1;33m/\u001b[0m\u001b[1;36m0\u001b[0m\u001b[1;33m\u001b[0m\u001b[1;33m\u001b[0m\u001b[0m\n\u001b[0m",
      "\u001b[1;31mZeroDivisionError\u001b[0m: division by zero"
     ]
    }
   ],
   "source": [
    "result = 10/0"
   ]
  },
  {
   "cell_type": "code",
   "execution_count": null,
   "id": "032c08e4",
   "metadata": {},
   "outputs": [],
   "source": [
    "'''\n",
    "If there is a semantic error in your program, \n",
    "it will run successfully in the sense that the computer will not generate any error messages.\n",
    "'''"
   ]
  },
  {
   "cell_type": "code",
   "execution_count": 9,
   "id": "df9f680e",
   "metadata": {},
   "outputs": [],
   "source": [
    "x= 5\n",
    "x= 'Hello'\n",
    "\n",
    "# The above code change variable x int into string"
   ]
  },
  {
   "cell_type": "markdown",
   "id": "8039b86d",
   "metadata": {},
   "source": [
    "# My advice as a programmer!"
   ]
  },
  {
   "cell_type": "markdown",
   "id": "77717e7f",
   "metadata": {},
   "source": [
    "##  Visualize, Visualize, Visualize......"
   ]
  },
  {
   "cell_type": "code",
   "execution_count": null,
   "id": "bcf7871c",
   "metadata": {},
   "outputs": [],
   "source": []
  },
  {
   "cell_type": "markdown",
   "id": "70aea01a",
   "metadata": {},
   "source": [
    "# Values and Data Types -------------- Section 2"
   ]
  },
  {
   "cell_type": "code",
   "execution_count": null,
   "id": "f081f18f",
   "metadata": {},
   "outputs": [],
   "source": [
    "'''\n",
    "A value is one of the fundamental things — like a word or a number — that a program manipulates.\n",
    "'''"
   ]
  },
  {
   "cell_type": "code",
   "execution_count": null,
   "id": "b6d84760",
   "metadata": {},
   "outputs": [],
   "source": [
    "'''\n",
    "We often refer to these values as objects and we will use the words value and object interchangeably\n",
    "'''"
   ]
  },
  {
   "cell_type": "code",
   "execution_count": 11,
   "id": "33147871",
   "metadata": {},
   "outputs": [
    {
     "data": {
      "text/plain": [
       "5"
      ]
     },
     "execution_count": 11,
     "metadata": {},
     "output_type": "execute_result"
    }
   ],
   "source": [
    "2+3"
   ]
  },
  {
   "cell_type": "markdown",
   "id": "0ab4fe11",
   "metadata": {},
   "source": [
    "# Intergers, Strings, Float values"
   ]
  },
  {
   "cell_type": "code",
   "execution_count": 13,
   "id": "b9df7451",
   "metadata": {},
   "outputs": [
    {
     "name": "stdout",
     "output_type": "stream",
     "text": [
      "<class 'int'>\n"
     ]
    }
   ],
   "source": [
    "print(type(2))"
   ]
  },
  {
   "cell_type": "code",
   "execution_count": 14,
   "id": "974fd477",
   "metadata": {},
   "outputs": [
    {
     "name": "stdout",
     "output_type": "stream",
     "text": [
      "<class 'str'>\n"
     ]
    }
   ],
   "source": [
    "print(type('Raza'))"
   ]
  },
  {
   "cell_type": "code",
   "execution_count": 15,
   "id": "194e8659",
   "metadata": {},
   "outputs": [
    {
     "name": "stdout",
     "output_type": "stream",
     "text": [
      "<class 'float'>\n"
     ]
    }
   ],
   "source": [
    "print(type(2.5))"
   ]
  },
  {
   "cell_type": "code",
   "execution_count": null,
   "id": "071b1684",
   "metadata": {},
   "outputs": [],
   "source": []
  },
  {
   "cell_type": "markdown",
   "id": "1644d30d",
   "metadata": {},
   "source": [
    "# Variables ----------- Important in any programming language\n",
    "\n",
    "## Write meaningful name!"
   ]
  },
  {
   "cell_type": "code",
   "execution_count": null,
   "id": "e75c6351",
   "metadata": {},
   "outputs": [],
   "source": [
    "'''\n",
    "x = 5 \n",
    "y = 10\n",
    "z= x+y\n",
    "\n",
    "\n",
    "What x, y, z ? Do you like them ?\n",
    "\n",
    "Why not first_number = 5\n",
    "second_number = 10\n",
    "result = first_number+second_number\n",
    "'''"
   ]
  },
  {
   "cell_type": "markdown",
   "id": "da76c4d5",
   "metadata": {},
   "source": [
    "# Names for variables"
   ]
  },
  {
   "cell_type": "code",
   "execution_count": null,
   "id": "b5102598",
   "metadata": {},
   "outputs": [],
   "source": [
    "'''\n",
    "Variable names can be arbitrarily long. They can contain both letters and digits, \n",
    "but they have to begin with a letter or an underscore.\n",
    "\n",
    "'''"
   ]
  },
  {
   "cell_type": "markdown",
   "id": "a91e8a2a",
   "metadata": {},
   "source": [
    "# Note: Variable names can never contain spaces.\n"
   ]
  },
  {
   "cell_type": "code",
   "execution_count": null,
   "id": "b8c03bf1",
   "metadata": {},
   "outputs": [],
   "source": [
    "''' Few python keywords also can not be used as variable, this is also true for other languages\n",
    "\n",
    "For example \n",
    "if = 5 !\n",
    "\n",
    "'''"
   ]
  },
  {
   "cell_type": "code",
   "execution_count": null,
   "id": "a68a2219",
   "metadata": {},
   "outputs": [],
   "source": []
  },
  {
   "cell_type": "markdown",
   "id": "d956c734",
   "metadata": {},
   "source": [
    "# Statements and Expressions\n"
   ]
  },
  {
   "cell_type": "code",
   "execution_count": null,
   "id": "39ccece6",
   "metadata": {},
   "outputs": [],
   "source": [
    "'''\n",
    "A statement is an instruction that the Python interpreter can execute.\n",
    "'''"
   ]
  },
  {
   "cell_type": "code",
   "execution_count": null,
   "id": "b3d4f210",
   "metadata": {},
   "outputs": [],
   "source": [
    "'''\n",
    "An expression is a combination of values, variables, operators, and calls to functions. Expressions need to be evaluated.\n",
    "'''"
   ]
  },
  {
   "cell_type": "code",
   "execution_count": 16,
   "id": "02c99d36",
   "metadata": {},
   "outputs": [
    {
     "name": "stdout",
     "output_type": "stream",
     "text": [
      "15\n"
     ]
    }
   ],
   "source": [
    "# Expression\n",
    "x = 3* (2+3)\n",
    "print(x)"
   ]
  },
  {
   "cell_type": "code",
   "execution_count": 18,
   "id": "208ac514",
   "metadata": {},
   "outputs": [
    {
     "name": "stdout",
     "output_type": "stream",
     "text": [
      "X is greater than 15\n"
     ]
    }
   ],
   "source": [
    "x = 15\n",
    "\n",
    "if x>0:\n",
    "    print('X is greater than 15')"
   ]
  },
  {
   "cell_type": "markdown",
   "id": "a80bc6e0",
   "metadata": {},
   "source": [
    "# Operators and Operands\n"
   ]
  },
  {
   "cell_type": "code",
   "execution_count": null,
   "id": "3ca3d951",
   "metadata": {},
   "outputs": [],
   "source": [
    "'''\n",
    "Operators are special tokens that represent computations like addition, multiplication and division.\n",
    "'''"
   ]
  },
  {
   "cell_type": "code",
   "execution_count": null,
   "id": "77ffb044",
   "metadata": {},
   "outputs": [],
   "source": [
    "'''\n",
    "Tokens -- The tokens +, -, and *, and the use of parentheses for grouping, mean in Python what they mean in mathematics.\n",
    "'''"
   ]
  },
  {
   "cell_type": "code",
   "execution_count": 21,
   "id": "286403f9",
   "metadata": {},
   "outputs": [
    {
     "name": "stdout",
     "output_type": "stream",
     "text": [
      "15\n",
      "5\n",
      "50\n",
      "2.0\n",
      "0\n",
      "100000\n"
     ]
    }
   ],
   "source": [
    "a = 10\n",
    "b = 5\n",
    "\n",
    "# Addition\n",
    "result_add = a + b  # 10 + 5 = 15\n",
    "print(result_add)\n",
    "\n",
    "# Subtraction\n",
    "result_sub = a - b  # 10 - 5 = 5\n",
    "print(result_sub)\n",
    "# Multiplication\n",
    "result_mul = a * b  # 10 * 5 = 50\n",
    "print(result_mul)\n",
    "# Division\n",
    "result_div = a / b  # 10 / 5 = 2.0\n",
    "print(result_div)\n",
    "# Modulus (Remainder)\n",
    "result_mod = a % b  # 10 % 5 = 0\n",
    "print(result_mod)\n",
    "# Exponentiation\n",
    "result_exp = a ** b  # 10^5 = 100000\n",
    "\n",
    "print(result_exp)"
   ]
  },
  {
   "cell_type": "code",
   "execution_count": null,
   "id": "e2bbd793",
   "metadata": {},
   "outputs": [],
   "source": []
  },
  {
   "cell_type": "markdown",
   "id": "f10db653",
   "metadata": {},
   "source": [
    "# Comaprision -- Important because we need most of time"
   ]
  },
  {
   "cell_type": "code",
   "execution_count": 20,
   "id": "263109d2",
   "metadata": {},
   "outputs": [],
   "source": [
    "x = 10\n",
    "y = 20\n",
    "\n",
    "# Equal to\n",
    "result_eq = x == y  # False\n",
    "\n",
    "# Not equal to\n",
    "result_neq = x != y  # True\n",
    "\n",
    "# Greater than\n",
    "result_gt = x > y  # False\n",
    "\n",
    "# Less than\n",
    "result_lt = x < y  # True\n",
    "\n",
    "# Greater than or equal to\n",
    "result_ge = x >= y  # False\n",
    "\n",
    "# Less than or equal to\n",
    "result_le = x <= y  # True"
   ]
  },
  {
   "cell_type": "markdown",
   "id": "676d1056",
   "metadata": {},
   "source": [
    "# Logical Operators"
   ]
  },
  {
   "cell_type": "code",
   "execution_count": 22,
   "id": "10ef4031",
   "metadata": {},
   "outputs": [],
   "source": [
    "p = True\n",
    "q = False\n",
    "\n",
    "# Logical AND\n",
    "result_and = p and q  # False\n",
    "\n",
    "# Logical OR\n",
    "result_or = p or q  # True\n",
    "\n",
    "# Logical NOT\n",
    "result_not_p = not p  # False\n",
    "result_not_q = not q  # True"
   ]
  },
  {
   "cell_type": "markdown",
   "id": "895e3d00",
   "metadata": {},
   "source": [
    "# Order of operation -- Very important in any language \n",
    "\n",
    "- Parentheses have the highest precedence 2 * (3-1) is 4\n",
    "-  Exponentiation has the next highest precedence 2**1+1 is 3\n",
    "- Multiplication and both division operators have the same precedence 2*3-1 yields 5\n",
    "- Operators with the same precedence (except for **) are evaluated from left-to-right. 6-3+2 = 5"
   ]
  },
  {
   "cell_type": "code",
   "execution_count": null,
   "id": "855c2eef",
   "metadata": {},
   "outputs": [],
   "source": []
  },
  {
   "cell_type": "code",
   "execution_count": null,
   "id": "e0610e07",
   "metadata": {},
   "outputs": [],
   "source": []
  },
  {
   "cell_type": "markdown",
   "id": "46f4dd4c",
   "metadata": {},
   "source": [
    "# Modules and Libraries --- Python Life -- Section 3"
   ]
  },
  {
   "cell_type": "code",
   "execution_count": null,
   "id": "ca8ea151",
   "metadata": {},
   "outputs": [],
   "source": [
    "'''\n",
    "A module is a file containing Python definitions and statements intended for use in other Python programs.\n",
    "'''"
   ]
  },
  {
   "cell_type": "code",
   "execution_count": 25,
   "id": "8c2d01dd",
   "metadata": {},
   "outputs": [
    {
     "name": "stdout",
     "output_type": "stream",
     "text": [
      "3.141592653589793\n",
      "1.4142135623730951\n"
     ]
    }
   ],
   "source": [
    "import math\n",
    "\n",
    "print(math.pi)\n",
    "\n",
    "print(math.sqrt(2))\n"
   ]
  },
  {
   "cell_type": "markdown",
   "id": "98a72471",
   "metadata": {},
   "source": [
    "# Check all the functionality provided by modules"
   ]
  },
  {
   "cell_type": "code",
   "execution_count": 26,
   "id": "17e96a8c",
   "metadata": {},
   "outputs": [
    {
     "name": "stdout",
     "output_type": "stream",
     "text": [
      "['__doc__', '__loader__', '__name__', '__package__', '__spec__', 'acos', 'acosh', 'asin', 'asinh', 'atan', 'atan2', 'atanh', 'ceil', 'comb', 'copysign', 'cos', 'cosh', 'degrees', 'dist', 'e', 'erf', 'erfc', 'exp', 'expm1', 'fabs', 'factorial', 'floor', 'fmod', 'frexp', 'fsum', 'gamma', 'gcd', 'hypot', 'inf', 'isclose', 'isfinite', 'isinf', 'isnan', 'isqrt', 'lcm', 'ldexp', 'lgamma', 'log', 'log10', 'log1p', 'log2', 'modf', 'nan', 'nextafter', 'perm', 'pi', 'pow', 'prod', 'radians', 'remainder', 'sin', 'sinh', 'sqrt', 'tan', 'tanh', 'tau', 'trunc', 'ulp']\n"
     ]
    }
   ],
   "source": [
    "print(dir(math))"
   ]
  },
  {
   "cell_type": "code",
   "execution_count": 30,
   "id": "526e4439",
   "metadata": {},
   "outputs": [
    {
     "name": "stdout",
     "output_type": "stream",
     "text": [
      "6\n"
     ]
    }
   ],
   "source": [
    "print(math.factorial(3))"
   ]
  },
  {
   "cell_type": "code",
   "execution_count": 31,
   "id": "f3d73535",
   "metadata": {},
   "outputs": [
    {
     "name": "stdout",
     "output_type": "stream",
     "text": [
      "0.6425303261426881\n",
      "5\n"
     ]
    }
   ],
   "source": [
    "import random\n",
    "\n",
    "prob = random.random()\n",
    "print(prob)\n",
    "\n",
    "diceThrow = random.randrange(1, 7)       # return an int, one of 1,2,3,4,5,6\n",
    "print(diceThrow)"
   ]
  },
  {
   "cell_type": "code",
   "execution_count": 32,
   "id": "1025f8ce",
   "metadata": {},
   "outputs": [],
   "source": [
    "import numpy as np"
   ]
  },
  {
   "cell_type": "code",
   "execution_count": 33,
   "id": "ec59e278",
   "metadata": {},
   "outputs": [
    {
     "name": "stdout",
     "output_type": "stream",
     "text": [
      "['ALLOW_THREADS', 'AxisError', 'BUFSIZE', 'CLIP', 'ComplexWarning', 'DataSource', 'ERR_CALL', 'ERR_DEFAULT', 'ERR_IGNORE', 'ERR_LOG', 'ERR_PRINT', 'ERR_RAISE', 'ERR_WARN', 'FLOATING_POINT_SUPPORT', 'FPE_DIVIDEBYZERO', 'FPE_INVALID', 'FPE_OVERFLOW', 'FPE_UNDERFLOW', 'False_', 'Inf', 'Infinity', 'MAXDIMS', 'MAY_SHARE_BOUNDS', 'MAY_SHARE_EXACT', 'ModuleDeprecationWarning', 'NAN', 'NINF', 'NZERO', 'NaN', 'PINF', 'PZERO', 'RAISE', 'RankWarning', 'SHIFT_DIVIDEBYZERO', 'SHIFT_INVALID', 'SHIFT_OVERFLOW', 'SHIFT_UNDERFLOW', 'ScalarType', 'Tester', 'TooHardError', 'True_', 'UFUNC_BUFSIZE_DEFAULT', 'UFUNC_PYVALS_NAME', 'VisibleDeprecationWarning', 'WRAP', '_CopyMode', '_NoValue', '_UFUNC_API', '__NUMPY_SETUP__', '__all__', '__builtins__', '__cached__', '__config__', '__deprecated_attrs__', '__dir__', '__doc__', '__expired_functions__', '__file__', '__former_attrs__', '__future_scalars__', '__getattr__', '__git_version__', '__loader__', '__name__', '__package__', '__path__', '__spec__', '__version__', '_add_newdoc_ufunc', '_builtins', '_distributor_init', '_financial_names', '_get_promotion_state', '_globals', '_int_extended_msg', '_mat', '_no_nep50_warning', '_pyinstaller_hooks_dir', '_pytesttester', '_set_promotion_state', '_specific_msg', '_version', 'abs', 'absolute', 'add', 'add_docstring', 'add_newdoc', 'add_newdoc_ufunc', 'all', 'allclose', 'alltrue', 'amax', 'amin', 'angle', 'any', 'append', 'apply_along_axis', 'apply_over_axes', 'arange', 'arccos', 'arccosh', 'arcsin', 'arcsinh', 'arctan', 'arctan2', 'arctanh', 'argmax', 'argmin', 'argpartition', 'argsort', 'argwhere', 'around', 'array', 'array2string', 'array_equal', 'array_equiv', 'array_repr', 'array_split', 'array_str', 'asanyarray', 'asarray', 'asarray_chkfinite', 'ascontiguousarray', 'asfarray', 'asfortranarray', 'asmatrix', 'atleast_1d', 'atleast_2d', 'atleast_3d', 'average', 'bartlett', 'base_repr', 'binary_repr', 'bincount', 'bitwise_and', 'bitwise_not', 'bitwise_or', 'bitwise_xor', 'blackman', 'block', 'bmat', 'bool_', 'broadcast', 'broadcast_arrays', 'broadcast_shapes', 'broadcast_to', 'busday_count', 'busday_offset', 'busdaycalendar', 'byte', 'byte_bounds', 'bytes_', 'c_', 'can_cast', 'cast', 'cbrt', 'cdouble', 'ceil', 'cfloat', 'char', 'character', 'chararray', 'choose', 'clip', 'clongdouble', 'clongfloat', 'column_stack', 'common_type', 'compare_chararrays', 'compat', 'complex128', 'complex64', 'complex_', 'complexfloating', 'compress', 'concatenate', 'conj', 'conjugate', 'convolve', 'copy', 'copysign', 'copyto', 'corrcoef', 'correlate', 'cos', 'cosh', 'count_nonzero', 'cov', 'cross', 'csingle', 'ctypeslib', 'cumprod', 'cumproduct', 'cumsum', 'datetime64', 'datetime_as_string', 'datetime_data', 'deg2rad', 'degrees', 'delete', 'deprecate', 'deprecate_with_doc', 'diag', 'diag_indices', 'diag_indices_from', 'diagflat', 'diagonal', 'diff', 'digitize', 'disp', 'divide', 'divmod', 'dot', 'double', 'dsplit', 'dstack', 'dtype', 'e', 'ediff1d', 'einsum', 'einsum_path', 'emath', 'empty', 'empty_like', 'equal', 'errstate', 'euler_gamma', 'exp', 'exp2', 'expand_dims', 'expm1', 'extract', 'eye', 'fabs', 'fastCopyAndTranspose', 'fft', 'fill_diagonal', 'find_common_type', 'finfo', 'fix', 'flatiter', 'flatnonzero', 'flexible', 'flip', 'fliplr', 'flipud', 'float16', 'float32', 'float64', 'float_', 'float_power', 'floating', 'floor', 'floor_divide', 'fmax', 'fmin', 'fmod', 'format_float_positional', 'format_float_scientific', 'format_parser', 'frexp', 'from_dlpack', 'frombuffer', 'fromfile', 'fromfunction', 'fromiter', 'frompyfunc', 'fromregex', 'fromstring', 'full', 'full_like', 'gcd', 'generic', 'genfromtxt', 'geomspace', 'get_array_wrap', 'get_include', 'get_printoptions', 'getbufsize', 'geterr', 'geterrcall', 'geterrobj', 'gradient', 'greater', 'greater_equal', 'half', 'hamming', 'hanning', 'heaviside', 'histogram', 'histogram2d', 'histogram_bin_edges', 'histogramdd', 'hsplit', 'hstack', 'hypot', 'i0', 'identity', 'iinfo', 'imag', 'in1d', 'index_exp', 'indices', 'inexact', 'inf', 'info', 'infty', 'inner', 'insert', 'int16', 'int32', 'int64', 'int8', 'int_', 'intc', 'integer', 'interp', 'intersect1d', 'intp', 'invert', 'is_busday', 'isclose', 'iscomplex', 'iscomplexobj', 'isfinite', 'isfortran', 'isin', 'isinf', 'isnan', 'isnat', 'isneginf', 'isposinf', 'isreal', 'isrealobj', 'isscalar', 'issctype', 'issubclass_', 'issubdtype', 'issubsctype', 'iterable', 'ix_', 'kaiser', 'kron', 'lcm', 'ldexp', 'left_shift', 'less', 'less_equal', 'lexsort', 'lib', 'linalg', 'linspace', 'little_endian', 'load', 'loadtxt', 'log', 'log10', 'log1p', 'log2', 'logaddexp', 'logaddexp2', 'logical_and', 'logical_not', 'logical_or', 'logical_xor', 'logspace', 'longcomplex', 'longdouble', 'longfloat', 'longlong', 'lookfor', 'ma', 'mask_indices', 'mat', 'math', 'matmul', 'matrix', 'max', 'maximum', 'maximum_sctype', 'may_share_memory', 'mean', 'median', 'memmap', 'meshgrid', 'mgrid', 'min', 'min_scalar_type', 'minimum', 'mintypecode', 'mod', 'modf', 'moveaxis', 'msort', 'multiply', 'nan', 'nan_to_num', 'nanargmax', 'nanargmin', 'nancumprod', 'nancumsum', 'nanmax', 'nanmean', 'nanmedian', 'nanmin', 'nanpercentile', 'nanprod', 'nanquantile', 'nanstd', 'nansum', 'nanvar', 'nbytes', 'ndarray', 'ndenumerate', 'ndim', 'ndindex', 'nditer', 'negative', 'nested_iters', 'newaxis', 'nextafter', 'nonzero', 'not_equal', 'numarray', 'number', 'obj2sctype', 'object_', 'ogrid', 'oldnumeric', 'ones', 'ones_like', 'outer', 'packbits', 'pad', 'partition', 'percentile', 'pi', 'piecewise', 'place', 'poly', 'poly1d', 'polyadd', 'polyder', 'polydiv', 'polyfit', 'polyint', 'polymul', 'polynomial', 'polysub', 'polyval', 'positive', 'power', 'printoptions', 'prod', 'product', 'promote_types', 'ptp', 'put', 'put_along_axis', 'putmask', 'quantile', 'r_', 'rad2deg', 'radians', 'random', 'ravel', 'ravel_multi_index', 'real', 'real_if_close', 'rec', 'recarray', 'recfromcsv', 'recfromtxt', 'reciprocal', 'record', 'remainder', 'repeat', 'require', 'reshape', 'resize', 'result_type', 'right_shift', 'rint', 'roll', 'rollaxis', 'roots', 'rot90', 'round', 'round_', 'row_stack', 's_', 'safe_eval', 'save', 'savetxt', 'savez', 'savez_compressed', 'sctype2char', 'sctypeDict', 'sctypes', 'searchsorted', 'select', 'set_numeric_ops', 'set_printoptions', 'set_string_function', 'setbufsize', 'setdiff1d', 'seterr', 'seterrcall', 'seterrobj', 'setxor1d', 'shape', 'shares_memory', 'short', 'show_config', 'show_runtime', 'sign', 'signbit', 'signedinteger', 'sin', 'sinc', 'single', 'singlecomplex', 'sinh', 'size', 'sometrue', 'sort', 'sort_complex', 'source', 'spacing', 'split', 'sqrt', 'square', 'squeeze', 'stack', 'std', 'str_', 'string_', 'subtract', 'sum', 'swapaxes', 'take', 'take_along_axis', 'tan', 'tanh', 'tensordot', 'test', 'testing', 'tile', 'timedelta64', 'trace', 'tracemalloc_domain', 'transpose', 'trapz', 'tri', 'tril', 'tril_indices', 'tril_indices_from', 'trim_zeros', 'triu', 'triu_indices', 'triu_indices_from', 'true_divide', 'trunc', 'typecodes', 'typename', 'ubyte', 'ufunc', 'uint', 'uint16', 'uint32', 'uint64', 'uint8', 'uintc', 'uintp', 'ulonglong', 'unicode_', 'union1d', 'unique', 'unpackbits', 'unravel_index', 'unsignedinteger', 'unwrap', 'use_hugepage', 'ushort', 'vander', 'var', 'vdot', 'vectorize', 'version', 'void', 'vsplit', 'vstack', 'where', 'who', 'zeros', 'zeros_like']\n"
     ]
    }
   ],
   "source": [
    "print(dir(np))"
   ]
  },
  {
   "cell_type": "code",
   "execution_count": 35,
   "id": "15cf4449",
   "metadata": {},
   "outputs": [
    {
     "data": {
      "text/plain": [
       "array([1, 2, 4, 4, 6])"
      ]
     },
     "execution_count": 35,
     "metadata": {},
     "output_type": "execute_result"
    }
   ],
   "source": [
    "l = [2,1,4,6,4]\n",
    "np.sort(l)"
   ]
  },
  {
   "cell_type": "code",
   "execution_count": null,
   "id": "0863fc4c",
   "metadata": {},
   "outputs": [],
   "source": []
  },
  {
   "cell_type": "code",
   "execution_count": null,
   "id": "e622b312",
   "metadata": {},
   "outputs": [],
   "source": []
  },
  {
   "cell_type": "markdown",
   "id": "8f5f9f45",
   "metadata": {},
   "source": [
    "# Function -- Very very Important in any language !  Section 4"
   ]
  },
  {
   "cell_type": "code",
   "execution_count": null,
   "id": "b80e8ecf",
   "metadata": {},
   "outputs": [],
   "source": [
    "'''\n",
    "a function is a named sequence of statements that belong together. \n",
    "Their primary purpose is to help us organize programs into chunks that match how we think about the solution to the problem.\n",
    "'''"
   ]
  },
  {
   "cell_type": "code",
   "execution_count": 41,
   "id": "f93bc035",
   "metadata": {},
   "outputs": [],
   "source": [
    "# Syntax\n",
    "def name( parameters ):\n",
    "    statements"
   ]
  },
  {
   "cell_type": "code",
   "execution_count": 36,
   "id": "b99a8289",
   "metadata": {},
   "outputs": [],
   "source": [
    "def print_lyrics():\n",
    "   print(\"I'm a lumberjack, and I'm okay.\")\n",
    "   print(\"I sleep all night and I work all day.\")"
   ]
  },
  {
   "cell_type": "code",
   "execution_count": 38,
   "id": "5220045d",
   "metadata": {},
   "outputs": [
    {
     "data": {
      "text/plain": [
       "function"
      ]
     },
     "execution_count": 38,
     "metadata": {},
     "output_type": "execute_result"
    }
   ],
   "source": [
    "type(print_lyrics)"
   ]
  },
  {
   "cell_type": "code",
   "execution_count": 39,
   "id": "36b524b4",
   "metadata": {},
   "outputs": [
    {
     "name": "stdout",
     "output_type": "stream",
     "text": [
      "I'm a lumberjack, and I'm okay.\n",
      "I sleep all night and I work all day.\n"
     ]
    }
   ],
   "source": [
    "print_lyrics()"
   ]
  },
  {
   "cell_type": "markdown",
   "id": "7cad7b3e",
   "metadata": {},
   "source": [
    "# Note: Remember that statements inside the function don’t run until the function is called"
   ]
  },
  {
   "cell_type": "code",
   "execution_count": 44,
   "id": "d6fad995",
   "metadata": {},
   "outputs": [],
   "source": [
    "'''\n",
    "Local variables -- Their scope is inside the function\n",
    "'''\n",
    "def cat_twice(part1, part2):\n",
    "    cat = part1 + part2\n",
    "    print(cat)"
   ]
  },
  {
   "cell_type": "code",
   "execution_count": 45,
   "id": "57749696",
   "metadata": {},
   "outputs": [
    {
     "name": "stdout",
     "output_type": "stream",
     "text": [
      "Bing tiddle tiddle bang.\n"
     ]
    }
   ],
   "source": [
    "line1 = 'Bing tiddle '\n",
    "line2 = 'tiddle bang.'\n",
    "cat_twice(line1, line2)"
   ]
  },
  {
   "cell_type": "code",
   "execution_count": 46,
   "id": "d9df8560",
   "metadata": {},
   "outputs": [
    {
     "name": "stdout",
     "output_type": "stream",
     "text": [
      "The result of 10 squared is 100\n"
     ]
    }
   ],
   "source": [
    "def square(x):\n",
    "    y = x * x\n",
    "    return y\n",
    "\n",
    "toSquare = 10\n",
    "result = square(toSquare)\n",
    "print(\"The result of\", toSquare, \"squared is\", result)"
   ]
  },
  {
   "cell_type": "code",
   "execution_count": 47,
   "id": "cc62502d",
   "metadata": {},
   "outputs": [
    {
     "name": "stdout",
     "output_type": "stream",
     "text": [
      "129\n"
     ]
    }
   ],
   "source": [
    "def square(x):\n",
    "    y = x * x\n",
    "    return y\n",
    "def sum_of_squares(x, y, z):\n",
    "    a = square(x)\n",
    "    b = square(y)\n",
    "    c = square(z)\n",
    "    return a + b + c\n",
    "a = -5\n",
    "b = 2\n",
    "c = 10\n",
    "result = sum_of_squares(a, b, c)\n",
    "print(result)\n"
   ]
  },
  {
   "cell_type": "code",
   "execution_count": 48,
   "id": "7141557c",
   "metadata": {},
   "outputs": [
    {
     "name": "stdout",
     "output_type": "stream",
     "text": [
      "6 is even.\n"
     ]
    }
   ],
   "source": [
    "\n",
    "def is_even(number):\n",
    "    if number % 2 == 0:\n",
    "        return True\n",
    "    else:\n",
    "        return False\n",
    "\n",
    "# Calling the function and using the return value\n",
    "num = 6\n",
    "if is_even(num):\n",
    "    print(f\"{num} is even.\")\n",
    "else:\n",
    "    print(f\"{num} is odd.\")"
   ]
  },
  {
   "cell_type": "code",
   "execution_count": null,
   "id": "de655bed",
   "metadata": {},
   "outputs": [],
   "source": []
  },
  {
   "cell_type": "markdown",
   "id": "cecf6359",
   "metadata": {},
   "source": [
    "# Boolean Values and Boolean Expressions -- Section 5\n"
   ]
  },
  {
   "cell_type": "code",
   "execution_count": 50,
   "id": "8cedaf9e",
   "metadata": {},
   "outputs": [
    {
     "name": "stdout",
     "output_type": "stream",
     "text": [
      "True\n",
      "<class 'bool'>\n",
      "<class 'bool'>\n"
     ]
    }
   ],
   "source": [
    "print(True)\n",
    "print(type(True))\n",
    "print(type(False))"
   ]
  },
  {
   "cell_type": "code",
   "execution_count": 54,
   "id": "6f335056",
   "metadata": {},
   "outputs": [
    {
     "name": "stdout",
     "output_type": "stream",
     "text": [
      "True\n",
      "False\n",
      "True\n",
      "False\n",
      "True\n"
     ]
    }
   ],
   "source": [
    "x =9\n",
    "y = 15\n",
    "print(x != y)               \n",
    "print(x > y    )          \n",
    "print(x < y   )            \n",
    "print(x >= y )              \n",
    "print(x <= y )             "
   ]
  },
  {
   "cell_type": "code",
   "execution_count": 56,
   "id": "aaf24dfb",
   "metadata": {},
   "outputs": [
    {
     "name": "stdout",
     "output_type": "stream",
     "text": [
      "You cannot restart your phone. Battery too low or not enough free space.\n"
     ]
    }
   ],
   "source": [
    "phone_charge = 0.3\n",
    "phone_storage = .15\n",
    "if not ((phone_charge >= 0.50) and (phone_storage >= .15)):\n",
    "   print(\"You cannot restart your phone. Battery too low or not enough free space.\")\n",
    "else:\n",
    "   print(\"Updating now...Several restarts may be required.\")\n"
   ]
  },
  {
   "cell_type": "code",
   "execution_count": 57,
   "id": "0df8d052",
   "metadata": {},
   "outputs": [
    {
     "name": "stdout",
     "output_type": "stream",
     "text": [
      "Updating now...Several restarts may be required.\n"
     ]
    }
   ],
   "source": [
    "phone_charge = 0.50\n",
    "phone_storage = .15\n",
    "if not ((phone_charge >= 0.50) and (phone_storage >= .15)):\n",
    "   print(\"You cannot restart your phone. Battery too low or not enough free space.\")\n",
    "else:\n",
    "   print(\"Updating now...Several restarts may be required.\")"
   ]
  },
  {
   "cell_type": "code",
   "execution_count": 58,
   "id": "39b524c8",
   "metadata": {},
   "outputs": [
    {
     "name": "stdout",
     "output_type": "stream",
     "text": [
      "Updating now...Several restarts may be required.\n"
     ]
    }
   ],
   "source": [
    "phone_charge = 0.3\n",
    "phone_storage = .15\n",
    "if not ((phone_charge >= 0.50) or (phone_storage >= .15)):\n",
    "   print(\"You cannot restart your phone. Battery too low or not enough free space.\")\n",
    "else:\n",
    "   print(\"Updating now...Several restarts may be required.\")"
   ]
  },
  {
   "cell_type": "markdown",
   "id": "bd25ab28",
   "metadata": {},
   "source": [
    "# Please note: Again we have some Precedence . Please loot at book"
   ]
  },
  {
   "cell_type": "code",
   "execution_count": 59,
   "id": "7f2e5688",
   "metadata": {},
   "outputs": [],
   "source": [
    "# Nested Conditions"
   ]
  },
  {
   "cell_type": "code",
   "execution_count": 60,
   "id": "cfa02d12",
   "metadata": {},
   "outputs": [
    {
     "name": "stdout",
     "output_type": "stream",
     "text": [
      "x and y must be equal\n"
     ]
    }
   ],
   "source": [
    "x = 10\n",
    "y = 10\n",
    "\n",
    "if x < y:\n",
    "    print(\"x is less than y\")\n",
    "else:\n",
    "    if x > y:\n",
    "        print(\"x is greater than y\")\n",
    "    else:\n",
    "        print(\"x and y must be equal\")"
   ]
  },
  {
   "cell_type": "code",
   "execution_count": 61,
   "id": "54ce3ac4",
   "metadata": {
    "scrolled": true
   },
   "outputs": [
    {
     "name": "stdout",
     "output_type": "stream",
     "text": [
      "B\n"
     ]
    }
   ],
   "source": [
    "score = 85\n",
    "\n",
    "if score >= 90:\n",
    "    print(\"A\")\n",
    "elif score >= 80:\n",
    "    print(\"B\")\n",
    "elif score >= 70:\n",
    "    print(\"C\")\n",
    "elif score >= 60:\n",
    "    print(\"D\")\n",
    "else:\n",
    "    print(\"F\")"
   ]
  },
  {
   "cell_type": "markdown",
   "id": "be8195ef",
   "metadata": {},
   "source": [
    "# Loops --- Very very Important in programming --- Section 6\n",
    "## In Python, you can use the for loop to iterate over sequences like lists, tuples, strings, and dictionaries, or you can generate sequences using functions like range(). Here are some examples of for loops in Python:"
   ]
  },
  {
   "cell_type": "code",
   "execution_count": 62,
   "id": "b3307b55",
   "metadata": {},
   "outputs": [
    {
     "name": "stdout",
     "output_type": "stream",
     "text": [
      "apple\n",
      "banana\n",
      "cherry\n"
     ]
    }
   ],
   "source": [
    "fruits = [\"apple\", \"banana\", \"cherry\"]\n",
    "for fruit in fruits:\n",
    "    print(fruit)\n"
   ]
  },
  {
   "cell_type": "code",
   "execution_count": 63,
   "id": "82be6de5",
   "metadata": {},
   "outputs": [
    {
     "name": "stdout",
     "output_type": "stream",
     "text": [
      "P\n",
      "y\n",
      "t\n",
      "h\n",
      "o\n",
      "n\n"
     ]
    }
   ],
   "source": [
    "for char in \"Python\":\n",
    "    print(char)\n"
   ]
  },
  {
   "cell_type": "code",
   "execution_count": 64,
   "id": "87afb2cd",
   "metadata": {},
   "outputs": [
    {
     "name": "stdout",
     "output_type": "stream",
     "text": [
      "0\n",
      "1\n",
      "2\n",
      "3\n",
      "4\n"
     ]
    }
   ],
   "source": [
    "for i in range(5):  # Iterates from 0 to 4 (not including 5)\n",
    "    print(i)\n"
   ]
  },
  {
   "cell_type": "code",
   "execution_count": 65,
   "id": "b459ce23",
   "metadata": {},
   "outputs": [
    {
     "name": "stdout",
     "output_type": "stream",
     "text": [
      "name : John\n",
      "age : 30\n",
      "city : New York\n"
     ]
    }
   ],
   "source": [
    "person = {\"name\": \"John\", \"age\": 30, \"city\": \"New York\"}\n",
    "for key, value in person.items():\n",
    "    print(key, \":\", value)\n"
   ]
  },
  {
   "cell_type": "code",
   "execution_count": 66,
   "id": "86c9fe31",
   "metadata": {},
   "outputs": [
    {
     "name": "stdout",
     "output_type": "stream",
     "text": [
      "1\n",
      "3\n",
      "5\n",
      "7\n",
      "9\n"
     ]
    }
   ],
   "source": [
    "for number in range(10):\n",
    "    if number % 2 == 0:\n",
    "        continue  # Skip even numbers\n",
    "    print(number)\n"
   ]
  },
  {
   "cell_type": "code",
   "execution_count": 67,
   "id": "1adc58d6",
   "metadata": {},
   "outputs": [
    {
     "name": "stdout",
     "output_type": "stream",
     "text": [
      "0\n",
      "1\n",
      "2\n",
      "3\n",
      "4\n",
      "Loop finished without a 'break' statement.\n"
     ]
    }
   ],
   "source": [
    "for number in range(5):\n",
    "    print(number)\n",
    "else:\n",
    "    print(\"Loop finished without a 'break' statement.\")\n"
   ]
  },
  {
   "cell_type": "code",
   "execution_count": 68,
   "id": "e931a979",
   "metadata": {},
   "outputs": [],
   "source": [
    "# While loop"
   ]
  },
  {
   "cell_type": "code",
   "execution_count": 69,
   "id": "7ef51a94",
   "metadata": {},
   "outputs": [
    {
     "name": "stdout",
     "output_type": "stream",
     "text": [
      "Count is 0\n",
      "Count is 1\n",
      "Count is 2\n",
      "Count is 3\n",
      "Count is 4\n"
     ]
    }
   ],
   "source": [
    "count = 0\n",
    "\n",
    "while count < 5:\n",
    "    print(f\"Count is {count}\")\n",
    "    count += 1"
   ]
  },
  {
   "cell_type": "markdown",
   "id": "0cf64c12",
   "metadata": {},
   "source": [
    "# Strings -- Used in NLP -- Section 7"
   ]
  },
  {
   "cell_type": "code",
   "execution_count": 71,
   "id": "37b818dd",
   "metadata": {},
   "outputs": [
    {
     "name": "stdout",
     "output_type": "stream",
     "text": [
      "GoGoGoGoGoGo\n",
      "PackersPackersPackers\n",
      "PackersGoPackersGoPackersGo\n"
     ]
    }
   ],
   "source": [
    "print(\"Go\" * 6)\n",
    "\n",
    "name = \"Packers\"\n",
    "print(name * 3)\n",
    "\n",
    "\n",
    "\n",
    "print((name + \"Go\") * 3)"
   ]
  },
  {
   "cell_type": "code",
   "execution_count": 72,
   "id": "81b2ae14",
   "metadata": {},
   "outputs": [
    {
     "name": "stdout",
     "output_type": "stream",
     "text": [
      "t\n",
      "e\n"
     ]
    }
   ],
   "source": [
    "school = \"Luther College\"\n",
    "m = school[2]\n",
    "print(m)\n",
    "\n",
    "lastchar = school[-1]\n",
    "print(lastchar)"
   ]
  },
  {
   "cell_type": "code",
   "execution_count": 73,
   "id": "c6de7127",
   "metadata": {},
   "outputs": [
    {
     "name": "stdout",
     "output_type": "stream",
     "text": [
      "HELLO, WORLD\n",
      "hello, world\n"
     ]
    }
   ],
   "source": [
    "ss = \"Hello, World\"\n",
    "print(ss.upper())\n",
    "\n",
    "tt = ss.lower()\n",
    "print(tt)"
   ]
  },
  {
   "cell_type": "code",
   "execution_count": 75,
   "id": "292d02c4",
   "metadata": {},
   "outputs": [
    {
     "name": "stdout",
     "output_type": "stream",
     "text": [
      "3\n",
      "Hell***, W***rld\n"
     ]
    }
   ],
   "source": [
    "ss = \"Hello, World\"\n",
    "\n",
    "els = ss.count(\"l\")\n",
    "print(els)\n",
    "news = ss.replace(\"o\", \"***\")\n",
    "print(news)"
   ]
  },
  {
   "cell_type": "code",
   "execution_count": 78,
   "id": "e0100c04",
   "metadata": {},
   "outputs": [
    {
     "name": "stdout",
     "output_type": "stream",
     "text": [
      "Peter\n",
      "Paul\n",
      "Mary\n"
     ]
    }
   ],
   "source": [
    "#Slicing\n",
    "singers = \"Peter, Paul, and Mary\"\n",
    "print(singers[0:5])\n",
    "print(singers[7:11])\n",
    "print(singers[17:21])"
   ]
  },
  {
   "cell_type": "code",
   "execution_count": 79,
   "id": "376f07f1",
   "metadata": {},
   "outputs": [
    {
     "name": "stdout",
     "output_type": "stream",
     "text": [
      "Yes, we have bananas!\n"
     ]
    }
   ],
   "source": [
    "word = \"banana\"\n",
    "if word == \"banana\":\n",
    "    print(\"Yes, we have bananas!\")\n",
    "else:\n",
    "    print(\"Yes, we have NO bananas!\")"
   ]
  },
  {
   "cell_type": "code",
   "execution_count": 80,
   "id": "aa7763dc",
   "metadata": {},
   "outputs": [
    {
     "name": "stdout",
     "output_type": "stream",
     "text": [
      "Your word, zebra, comes after banana.\n"
     ]
    }
   ],
   "source": [
    "word = \"zebra\"\n",
    "\n",
    "if word < \"banana\":\n",
    "    print(\"Your word, \" + word + \", comes before banana.\")\n",
    "elif word > \"banana\":\n",
    "    print(\"Your word, \" + word + \", comes after banana.\")\n",
    "else:\n",
    "    print(\"Yes, we have no bananas!\")"
   ]
  },
  {
   "cell_type": "code",
   "execution_count": 81,
   "id": "f7572454",
   "metadata": {},
   "outputs": [
    {
     "name": "stdout",
     "output_type": "stream",
     "text": [
      "True\n",
      "False\n",
      "False\n"
     ]
    }
   ],
   "source": [
    "# apple!=Apple\n",
    "\n",
    "print(\"apple\" < \"banana\")\n",
    "\n",
    "print(\"apple\" == \"Apple\")\n",
    "print(\"apple\" < \"Apple\")"
   ]
  },
  {
   "cell_type": "markdown",
   "id": "7e2645c0",
   "metadata": {},
   "source": [
    "# Note: String are immutable"
   ]
  },
  {
   "cell_type": "code",
   "execution_count": 82,
   "id": "eee349d8",
   "metadata": {},
   "outputs": [
    {
     "ename": "TypeError",
     "evalue": "'str' object does not support item assignment",
     "output_type": "error",
     "traceback": [
      "\u001b[1;31m---------------------------------------------------------------------------\u001b[0m",
      "\u001b[1;31mTypeError\u001b[0m                                 Traceback (most recent call last)",
      "\u001b[1;32m~\\AppData\\Local\\Temp\\ipykernel_10296\\2904356835.py\u001b[0m in \u001b[0;36m<module>\u001b[1;34m\u001b[0m\n\u001b[0;32m      1\u001b[0m \u001b[0mgreeting\u001b[0m \u001b[1;33m=\u001b[0m \u001b[1;34m\"Hello, world!\"\u001b[0m\u001b[1;33m\u001b[0m\u001b[1;33m\u001b[0m\u001b[0m\n\u001b[1;32m----> 2\u001b[1;33m \u001b[0mgreeting\u001b[0m\u001b[1;33m[\u001b[0m\u001b[1;36m0\u001b[0m\u001b[1;33m]\u001b[0m \u001b[1;33m=\u001b[0m \u001b[1;34m'J'\u001b[0m            \u001b[1;31m# ERROR!\u001b[0m\u001b[1;33m\u001b[0m\u001b[1;33m\u001b[0m\u001b[0m\n\u001b[0m\u001b[0;32m      3\u001b[0m \u001b[0mprint\u001b[0m\u001b[1;33m(\u001b[0m\u001b[0mgreeting\u001b[0m\u001b[1;33m)\u001b[0m\u001b[1;33m\u001b[0m\u001b[1;33m\u001b[0m\u001b[0m\n",
      "\u001b[1;31mTypeError\u001b[0m: 'str' object does not support item assignment"
     ]
    }
   ],
   "source": [
    "greeting = \"Hello, world!\"\n",
    "greeting[0] = 'J'            # ERROR!\n",
    "print(greeting)"
   ]
  },
  {
   "cell_type": "code",
   "execution_count": 83,
   "id": "27b1d85f",
   "metadata": {},
   "outputs": [
    {
     "name": "stdout",
     "output_type": "stream",
     "text": [
      "Hi Joe.  Please come to my party on Saturday!\n",
      "Hi Amy.  Please come to my party on Saturday!\n",
      "Hi Brad.  Please come to my party on Saturday!\n",
      "Hi Angelina.  Please come to my party on Saturday!\n",
      "Hi Zuki.  Please come to my party on Saturday!\n",
      "Hi Thandi.  Please come to my party on Saturday!\n",
      "Hi Paris.  Please come to my party on Saturday!\n"
     ]
    }
   ],
   "source": [
    "# Traversal\n",
    "\n",
    "for aname in [\"Joe\", \"Amy\", \"Brad\", \"Angelina\", \"Zuki\", \"Thandi\", \"Paris\"]:\n",
    "    invitation = \"Hi \" + aname + \".  Please come to my party on Saturday!\"\n",
    "    print(invitation)"
   ]
  },
  {
   "cell_type": "code",
   "execution_count": 84,
   "id": "b3154783",
   "metadata": {},
   "outputs": [
    {
     "name": "stdout",
     "output_type": "stream",
     "text": [
      "True\n",
      "False\n",
      "True\n",
      "False\n"
     ]
    }
   ],
   "source": [
    "print('p' in 'apple')\n",
    "print('i' in 'apple')\n",
    "print('ap' in 'apple')\n",
    "print('pa' in 'apple')"
   ]
  },
  {
   "cell_type": "code",
   "execution_count": 85,
   "id": "1aaad87d",
   "metadata": {},
   "outputs": [
    {
     "name": "stdout",
     "output_type": "stream",
     "text": [
      "3\n"
     ]
    }
   ],
   "source": [
    "def count(text, aChar):\n",
    "    lettercount = 0\n",
    "    for c in text:\n",
    "        if c == aChar:\n",
    "            lettercount = lettercount + 1\n",
    "    return lettercount\n",
    "\n",
    "print(count(\"banana\",\"a\"))"
   ]
  },
  {
   "cell_type": "code",
   "execution_count": null,
   "id": "cd344c87",
   "metadata": {},
   "outputs": [],
   "source": []
  },
  {
   "cell_type": "markdown",
   "id": "1430c001",
   "metadata": {},
   "source": [
    "# Lists and Tuples -- Section 8"
   ]
  },
  {
   "cell_type": "code",
   "execution_count": 86,
   "id": "bac913f2",
   "metadata": {},
   "outputs": [
    {
     "data": {
      "text/plain": [
       "['spam', 'bungee', 'swallow']"
      ]
     },
     "execution_count": 86,
     "metadata": {},
     "output_type": "execute_result"
    }
   ],
   "source": [
    "[10, 20, 30, 40]\n",
    "[\"spam\", \"bungee\", \"swallow\"]"
   ]
  },
  {
   "cell_type": "code",
   "execution_count": 87,
   "id": "b539d5d5",
   "metadata": {},
   "outputs": [
    {
     "name": "stdout",
     "output_type": "stream",
     "text": [
      "4\n",
      "4\n"
     ]
    }
   ],
   "source": [
    "alist =  [\"hello\", 2.0, 5, [10, 20]]\n",
    "print(len(alist))\n",
    "print(len(['spam!', 1, ['Brie', 'Roquefort', 'Pol le Veq'], [1, 2, 3]]))"
   ]
  },
  {
   "cell_type": "code",
   "execution_count": 88,
   "id": "c5014a4b",
   "metadata": {},
   "outputs": [
    {
     "name": "stdout",
     "output_type": "stream",
     "text": [
      "True\n",
      "False\n"
     ]
    }
   ],
   "source": [
    "fruit = [\"apple\", \"orange\", \"banana\", \"cherry\"]\n",
    "\n",
    "print(\"apple\" in fruit)\n",
    "print(\"pear\" in fruit)"
   ]
  },
  {
   "cell_type": "code",
   "execution_count": 89,
   "id": "289e6106",
   "metadata": {},
   "outputs": [],
   "source": [
    "# Slices"
   ]
  },
  {
   "cell_type": "code",
   "execution_count": 90,
   "id": "2c8c9022",
   "metadata": {},
   "outputs": [
    {
     "name": "stdout",
     "output_type": "stream",
     "text": [
      "['b', 'c']\n",
      "['a', 'b', 'c', 'd']\n",
      "['d', 'e', 'f']\n",
      "['a', 'b', 'c', 'd', 'e', 'f']\n"
     ]
    }
   ],
   "source": [
    "a_list = ['a', 'b', 'c', 'd', 'e', 'f']\n",
    "print(a_list[1:3])\n",
    "print(a_list[:4])\n",
    "print(a_list[3:])\n",
    "print(a_list[:])"
   ]
  },
  {
   "cell_type": "markdown",
   "id": "edfd4428",
   "metadata": {},
   "source": [
    "# Note: Lists are mutable\n"
   ]
  },
  {
   "cell_type": "code",
   "execution_count": 91,
   "id": "8cefb7ff",
   "metadata": {},
   "outputs": [
    {
     "name": "stdout",
     "output_type": "stream",
     "text": [
      "['banana', 'apple', 'cherry']\n",
      "['pear', 'apple', 'orange']\n"
     ]
    }
   ],
   "source": [
    "fruit = [\"banana\", \"apple\", \"cherry\"]\n",
    "print(fruit)\n",
    "\n",
    "fruit[0] = \"pear\"\n",
    "fruit[-1] = \"orange\"\n",
    "print(fruit)"
   ]
  },
  {
   "cell_type": "code",
   "execution_count": 92,
   "id": "d15f5aa2",
   "metadata": {},
   "outputs": [
    {
     "name": "stdout",
     "output_type": "stream",
     "text": [
      "apple\n",
      "orange\n",
      "banana\n",
      "cherry\n"
     ]
    }
   ],
   "source": [
    "# Lists and Loops\n",
    "\n",
    "fruits = [\"apple\", \"orange\", \"banana\", \"cherry\"]\n",
    "\n",
    "for afruit in fruits:     # by item\n",
    "    print(afruit)"
   ]
  },
  {
   "cell_type": "code",
   "execution_count": 93,
   "id": "8095f8e1",
   "metadata": {},
   "outputs": [
    {
     "name": "stdout",
     "output_type": "stream",
     "text": [
      "2\n"
     ]
    }
   ],
   "source": [
    "long_names = 0\n",
    "for name in [\"Joe\", \"Sally\", \"Amy\", \"Brad\"]:\n",
    "    if len(name) > 3:\n",
    "        long_names += 1\n",
    "print(long_names)"
   ]
  },
  {
   "cell_type": "markdown",
   "id": "3562fde1",
   "metadata": {},
   "source": [
    "# Tuples "
   ]
  },
  {
   "cell_type": "markdown",
   "id": "39aff494",
   "metadata": {},
   "source": [
    "# Note: A tuple, like a list, is a sequence of items of any type. Unlike lists, however, tuples are immutable."
   ]
  },
  {
   "cell_type": "code",
   "execution_count": 94,
   "id": "d95f0787",
   "metadata": {},
   "outputs": [],
   "source": [
    "julia = (\"Julia\", \"Roberts\", 1967, \"Duplicity\", 2009, \"Actress\", \"Atlanta, Georgia\")"
   ]
  },
  {
   "cell_type": "code",
   "execution_count": 95,
   "id": "c1d765c4",
   "metadata": {},
   "outputs": [
    {
     "ename": "TypeError",
     "evalue": "'tuple' object does not support item assignment",
     "output_type": "error",
     "traceback": [
      "\u001b[1;31m---------------------------------------------------------------------------\u001b[0m",
      "\u001b[1;31mTypeError\u001b[0m                                 Traceback (most recent call last)",
      "\u001b[1;32m~\\AppData\\Local\\Temp\\ipykernel_10296\\1159580843.py\u001b[0m in \u001b[0;36m<module>\u001b[1;34m\u001b[0m\n\u001b[1;32m----> 1\u001b[1;33m \u001b[0mjulia\u001b[0m\u001b[1;33m[\u001b[0m\u001b[1;36m0\u001b[0m\u001b[1;33m]\u001b[0m \u001b[1;33m=\u001b[0m \u001b[1;34m'X'\u001b[0m\u001b[1;33m\u001b[0m\u001b[1;33m\u001b[0m\u001b[0m\n\u001b[0m",
      "\u001b[1;31mTypeError\u001b[0m: 'tuple' object does not support item assignment"
     ]
    }
   ],
   "source": [
    "julia[0] = 'X'"
   ]
  },
  {
   "cell_type": "code",
   "execution_count": 97,
   "id": "01de5e84",
   "metadata": {},
   "outputs": [
    {
     "name": "stdout",
     "output_type": "stream",
     "text": [
      "1967\n",
      "----------------------------------------------------------------------------------\n",
      "(1967, 'Duplicity', 2009, 'Actress')\n",
      "----------------------------------------------------------------------------------\n",
      "7\n",
      "----------------------------------------------------------------------------------\n",
      "Julia\n",
      "Roberts\n",
      "1967\n",
      "Duplicity\n",
      "2009\n",
      "Actress\n",
      "Atlanta, Georgia\n",
      "----------------------------------------------------------------------------------\n",
      "('Julia', 'Roberts', 1967, 'Eat Pray Love', 2010, 'Actress', 'Atlanta, Georgia')\n",
      "----------------------------------------------------------------------------------\n"
     ]
    }
   ],
   "source": [
    "julia = (\"Julia\", \"Roberts\", 1967, \"Duplicity\", 2009, \"Actress\", \"Atlanta, Georgia\")\n",
    "print(julia[2])\n",
    "print('----------------------------------------------------------------------------------')\n",
    "print(julia[2:6])\n",
    "print('----------------------------------------------------------------------------------')\n",
    "print(len(julia))\n",
    "print('----------------------------------------------------------------------------------')\n",
    "for field in julia:\n",
    "    print(field)\n",
    "print('----------------------------------------------------------------------------------')\n",
    "julia = julia[:3] + (\"Eat Pray Love\", 2010) + julia[5:]\n",
    "print(julia)\n",
    "print('----------------------------------------------------------------------------------')"
   ]
  },
  {
   "cell_type": "markdown",
   "id": "a6e1a2a5",
   "metadata": {},
   "source": [
    "# Dictionaries"
   ]
  },
  {
   "cell_type": "markdown",
   "id": "e4a7e662",
   "metadata": {},
   "source": [
    "- Strings, lists, and tuples — are sequential collections\n",
    "- This means that the items in the collection are ordered from left to right and they use integers as indices to access the values they contain\n",
    "\n",
    "- Dictionaries are a different kind of collection. They are Python’s built-in mapping type. A map is an unordered, associative collection. The association, or mapping, is from a key, which can be any immutable type, to a value, which can be any Python data object.\n",
    "\n"
   ]
  },
  {
   "cell_type": "code",
   "execution_count": null,
   "id": "d29726d7",
   "metadata": {},
   "outputs": [],
   "source": [
    "'''\n",
    "As an example, we will create a dictionary to translate English words into Spanish. \n",
    "For this dictionary, the keys are strings and the values will also be strings.\n",
    "'''"
   ]
  },
  {
   "cell_type": "code",
   "execution_count": 98,
   "id": "c9a3241a",
   "metadata": {},
   "outputs": [],
   "source": [
    "eng2sp = {}\n",
    "eng2sp['one'] = 'uno'\n",
    "eng2sp['two'] = 'dos'\n",
    "eng2sp['three'] = 'tres'"
   ]
  },
  {
   "cell_type": "code",
   "execution_count": 99,
   "id": "860ca248",
   "metadata": {},
   "outputs": [],
   "source": [
    "eng2sp = {'three': 'tres', 'one': 'uno', 'two': 'dos'}"
   ]
  },
  {
   "cell_type": "code",
   "execution_count": 100,
   "id": "957067dd",
   "metadata": {},
   "outputs": [],
   "source": [
    "# Looping"
   ]
  },
  {
   "cell_type": "code",
   "execution_count": 101,
   "id": "33edf516",
   "metadata": {},
   "outputs": [
    {
     "name": "stdout",
     "output_type": "stream",
     "text": [
      "Got key apples which maps to value 430\n",
      "Got key bananas which maps to value 312\n",
      "Got key oranges which maps to value 525\n",
      "Got key pears which maps to value 217\n"
     ]
    }
   ],
   "source": [
    "inventory = {'apples': 430, 'bananas': 312, 'oranges': 525, 'pears': 217}\n",
    "\n",
    "for akey in inventory.keys():     \n",
    "   print(\"Got key\", akey, \"which maps to value\", inventory[akey])"
   ]
  },
  {
   "cell_type": "code",
   "execution_count": null,
   "id": "97af7feb",
   "metadata": {},
   "outputs": [],
   "source": []
  },
  {
   "cell_type": "code",
   "execution_count": 103,
   "id": "ab3543c1",
   "metadata": {},
   "outputs": [
    {
     "name": "stdout",
     "output_type": "stream",
     "text": [
      "[430, 312, 525, 217]\n",
      "=================================\n",
      "[('apples', 430), ('bananas', 312), ('oranges', 525), ('pears', 217)]\n",
      "=================================\n",
      "Got apples that maps to 430\n",
      "Got bananas that maps to 312\n",
      "Got oranges that maps to 525\n",
      "Got pears that maps to 217\n",
      "=================================\n",
      "Got apples that maps to 430\n",
      "Got bananas that maps to 312\n",
      "Got oranges that maps to 525\n",
      "Got pears that maps to 217\n",
      "=================================\n"
     ]
    }
   ],
   "source": [
    "inventory = {'apples': 430, 'bananas': 312, 'oranges': 525, 'pears': 217}\n",
    "\n",
    "print(list(inventory.values()))\n",
    "print('=================================')\n",
    "print(list(inventory.items()))\n",
    "print('=================================')\n",
    "for (k,v) in inventory.items():\n",
    "    print(\"Got\", k, \"that maps to\", v)\n",
    "print('=================================')\n",
    "for k in inventory:\n",
    "    print(\"Got\", k, \"that maps to\", inventory[k])\n",
    "print('=================================')"
   ]
  },
  {
   "cell_type": "code",
   "execution_count": 104,
   "id": "7e2fd978",
   "metadata": {},
   "outputs": [
    {
     "name": "stdout",
     "output_type": "stream",
     "text": [
      "True\n",
      "False\n",
      "312\n"
     ]
    }
   ],
   "source": [
    "inventory = {'apples': 430, 'bananas': 312, 'oranges': 525, 'pears': 217}\n",
    "print('apples' in inventory)\n",
    "print('cherries' in inventory)\n",
    "\n",
    "if 'bananas' in inventory:\n",
    "    print(inventory['bananas'])\n",
    "else:\n",
    "    print(\"We have no bananas\")"
   ]
  },
  {
   "cell_type": "code",
   "execution_count": null,
   "id": "19b8be80",
   "metadata": {},
   "outputs": [],
   "source": []
  },
  {
   "cell_type": "code",
   "execution_count": null,
   "id": "15f8a206",
   "metadata": {},
   "outputs": [],
   "source": []
  },
  {
   "cell_type": "markdown",
   "id": "ea78e509",
   "metadata": {},
   "source": [
    "# Advance topics -- OOP -- Last section of this session"
   ]
  },
  {
   "cell_type": "markdown",
   "id": "2a1a75ab",
   "metadata": {},
   "source": [
    "- Python is an object-oriented programming language. That means it provides features that support object-oriented programming (OOP).\n",
    "- In Python, every value is actually an object. Whether it be a turtle, a list, or even an integer, they are all objects.\n"
   ]
  },
  {
   "cell_type": "markdown",
   "id": "5c7eedd9",
   "metadata": {},
   "source": [
    "- An object is any entity that has attributes and behaviors. For example, a parrot is an object. It has\n",
    "\n",
    "- attributes - name, age, color, etc.\n",
    "- behavior - dancing, singing, etc.\n",
    "\n",
    "- Similarly, a class is a blueprint for that object.\n"
   ]
  },
  {
   "cell_type": "code",
   "execution_count": 108,
   "id": "352c3a92",
   "metadata": {},
   "outputs": [
    {
     "name": "stdout",
     "output_type": "stream",
     "text": [
      "Class\n"
     ]
    }
   ],
   "source": [
    "class ClassName:\n",
    "    print('Class')\n",
    "   # Statement-1\n",
    "   #.\n",
    "   #.\n",
    "   #.\n",
    "   # Statement-N"
   ]
  },
  {
   "cell_type": "code",
   "execution_count": 109,
   "id": "1d738b76",
   "metadata": {},
   "outputs": [
    {
     "name": "stdout",
     "output_type": "stream",
     "text": [
      "Blu is 10 years old\n",
      "Woo is 15 years old\n"
     ]
    }
   ],
   "source": [
    "class Parrot:\n",
    "    # class attribute\n",
    "    name = \"\"\n",
    "    age = 0\n",
    "# create parrot1 object\n",
    "parrot1 = Parrot()\n",
    "parrot1.name = \"Blu\"\n",
    "parrot1.age = 10\n",
    "# create another object parrot2\n",
    "parrot2 = Parrot()\n",
    "parrot2.name = \"Woo\"\n",
    "parrot2.age = 15\n",
    "# access attributes\n",
    "print(f\"{parrot1.name} is {parrot1.age} years old\")\n",
    "print(f\"{parrot2.name} is {parrot2.age} years old\")"
   ]
  },
  {
   "cell_type": "markdown",
   "id": "efb7806d",
   "metadata": {},
   "source": [
    "- The __init__ method is similar to constructors in C++ and Java. \n",
    "- It is run as soon as an object of a class is instantiated. \n",
    "- The method is useful to do any initialization you want to do with your object\n"
   ]
  },
  {
   "cell_type": "code",
   "execution_count": 110,
   "id": "e935234c",
   "metadata": {},
   "outputs": [
    {
     "name": "stdout",
     "output_type": "stream",
     "text": [
      "My name is Rodger\n"
     ]
    }
   ],
   "source": [
    "class Dog:\n",
    "   # class attribute\n",
    "    attr1 = \"mammal\"\n",
    "   # Instance attribute\n",
    "    def __init__(self, name):\n",
    "        self.name = name\n",
    " # Driver code\n",
    "# Object instantiation\n",
    "Rodger = Dog(\"Rodger\")\n",
    "# Accessing instance attributes\n",
    "print(\"My name is {}\".format(Rodger.name))"
   ]
  },
  {
   "cell_type": "code",
   "execution_count": 112,
   "id": "17c7dd42",
   "metadata": {},
   "outputs": [
    {
     "name": "stdout",
     "output_type": "stream",
     "text": [
      "My name is Tommy and sound is Tommy sounds like poodle\n"
     ]
    }
   ],
   "source": [
    "class Dog:\n",
    "    # Instance attribute\n",
    "    def __init__(self):\n",
    "        self.name = 'Tommy'\n",
    "        self.sound= 'Tommy sounds like poodle'\n",
    "\n",
    "    def speak(self):\n",
    "        print(f\"My name is {self.name} and sound is {self.sound}\")\n",
    "obj   = Dog()\n",
    "# Accessing class methods\n",
    "obj.speak()"
   ]
  },
  {
   "cell_type": "code",
   "execution_count": 113,
   "id": "580eeb47",
   "metadata": {},
   "outputs": [],
   "source": [
    "# Inheritance - Parent Class \n"
   ]
  },
  {
   "cell_type": "code",
   "execution_count": 118,
   "id": "509710f6",
   "metadata": {},
   "outputs": [],
   "source": [
    "class Person():\n",
    "    def __init__(self, name, idnumber):\n",
    "        self.name = name\n",
    "        self.idnumber = idnumber\n",
    "    def display(self):\n",
    "        print(self.name)\n",
    "        print(self.idnumber)  \n",
    "    def details(self):\n",
    "        print(\"My name is {}\".format(self.name))\n",
    "        print(\"IdNumber: {}\".format(self.idnumber))\n",
    "        "
   ]
  },
  {
   "cell_type": "code",
   "execution_count": 126,
   "id": "d371181e",
   "metadata": {},
   "outputs": [],
   "source": [
    "class Employee(Person):\n",
    "    def __init__(self, name, idnumber, salary, post):\n",
    "        self.salary = salary\n",
    "        self.post = post\n",
    "        # invoking the __init__ of the parent class\n",
    "        Person.__init__(self, name, idnumber)      \n",
    "    def details(self):\n",
    "        print(\"My name is {}\".format(self.name))\n",
    "        print(\"IdNumber: {}\".format(self.idnumber))\n",
    "        print(\"Salary: {}\".format(self.salary))"
   ]
  },
  {
   "cell_type": "code",
   "execution_count": 127,
   "id": "9bed38af",
   "metadata": {},
   "outputs": [
    {
     "name": "stdout",
     "output_type": "stream",
     "text": [
      "Khokhar\n",
      "852\n",
      "--------------------------------------\n",
      "Raza\n",
      "886012\n",
      "--------------------------------------\n",
      "My name is Raza\n",
      "IdNumber: 886012\n",
      "Salary: 200000\n"
     ]
    }
   ],
   "source": [
    "main_class_obj = Person('Khokhar','852')\n",
    "main_class_obj.display()\n",
    "print('--------------------------------------')\n",
    "# creation of an object variable or an instance\n",
    "a = Employee('Raza', 886012, 200000, \"Teacher\")\n",
    "# calling a function of the class Person using its instance\n",
    "a.display()\n",
    "\n",
    "print('--------------------------------------')\n",
    "\n",
    "a.details()"
   ]
  },
  {
   "cell_type": "markdown",
   "id": "9d883504",
   "metadata": {},
   "source": [
    "# Polymorphism "
   ]
  },
  {
   "cell_type": "markdown",
   "id": "0905d665",
   "metadata": {},
   "source": [
    "- Polymorphism simply means having many forms\n",
    "- Consider class Bird\n",
    "- Two inherited classes are: Sparrow and Ostrich\n",
    "- In Python, Polymorphism lets us define methods in the child class that have the same name as the methods in the parent class. \n",
    "\n"
   ]
  },
  {
   "cell_type": "code",
   "execution_count": 129,
   "id": "406d46a7",
   "metadata": {},
   "outputs": [],
   "source": [
    "class Bird:\n",
    "   \n",
    "    def intro(self):\n",
    "        print(\"There are many types of birds.\")\n",
    " \n",
    "    def flight(self):\n",
    "        print(\"Most of the birds can fly but some cannot.\")\n"
   ]
  },
  {
   "cell_type": "code",
   "execution_count": 132,
   "id": "4f1bebf1",
   "metadata": {},
   "outputs": [],
   "source": [
    "class sparrow(Bird):\n",
    "   \n",
    "    def flight(self):\n",
    "        print(\"Sparrows can fly.\")"
   ]
  },
  {
   "cell_type": "code",
   "execution_count": 133,
   "id": "783f1969",
   "metadata": {},
   "outputs": [],
   "source": [
    "class ostrich(Bird):\n",
    " \n",
    "    def flight(self):\n",
    "        print(\"Ostriches cannot fly.\")"
   ]
  },
  {
   "cell_type": "code",
   "execution_count": 135,
   "id": "98a78b7f",
   "metadata": {},
   "outputs": [
    {
     "name": "stdout",
     "output_type": "stream",
     "text": [
      "------------------------------\n",
      "There are many types of birds.\n",
      "Most of the birds can fly but some cannot.\n",
      "------------------------------\n",
      "There are many types of birds.\n",
      "Sparrows can fly.\n",
      "------------------------------\n",
      "There are many types of birds.\n",
      "Ostriches cannot fly.\n",
      "------------------------------\n"
     ]
    }
   ],
   "source": [
    "obj_bird = Bird()\n",
    "obj_spr = sparrow()\n",
    "obj_ost = ostrich()\n",
    "print('------------------------------')\n",
    " \n",
    "obj_bird.intro()\n",
    "obj_bird.flight()\n",
    "print('------------------------------') \n",
    "obj_spr.intro()\n",
    "obj_spr.flight()\n",
    "print('------------------------------') \n",
    "obj_ost.intro()\n",
    "obj_ost.flight()\n",
    "print('------------------------------')"
   ]
  },
  {
   "cell_type": "code",
   "execution_count": 136,
   "id": "ce593498",
   "metadata": {},
   "outputs": [],
   "source": [
    "#Note: Many more topics are important in python! But enough for today !"
   ]
  },
  {
   "cell_type": "markdown",
   "id": "0cfb5fd7",
   "metadata": {},
   "source": [
    "# Thanks\n",
    "\n",
    "# Raza Ul Mustafa - razaulmustafa@outlook.com for more questions and queries"
   ]
  },
  {
   "cell_type": "code",
   "execution_count": null,
   "id": "044a89ab",
   "metadata": {},
   "outputs": [],
   "source": []
  }
 ],
 "metadata": {
  "kernelspec": {
   "display_name": "Python 3 (ipykernel)",
   "language": "python",
   "name": "python3"
  },
  "language_info": {
   "codemirror_mode": {
    "name": "ipython",
    "version": 3
   },
   "file_extension": ".py",
   "mimetype": "text/x-python",
   "name": "python",
   "nbconvert_exporter": "python",
   "pygments_lexer": "ipython3",
   "version": "3.9.13"
  }
 },
 "nbformat": 4,
 "nbformat_minor": 5
}
